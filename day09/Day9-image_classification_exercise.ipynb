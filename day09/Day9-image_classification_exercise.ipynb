{
 "cells": [
  {
   "cell_type": "markdown",
   "id": "91d43cf7-e8f3-4f32-9fee-af50c73f63fe",
   "metadata": {},
   "source": [
    "# Day 9 - Image Classification with CNNs"
   ]
  },
  {
   "cell_type": "markdown",
   "id": "69e583c3-5e9a-4077-a42c-d0f3ac94497c",
   "metadata": {},
   "source": [
    "### Part 1: Cifar 10\n",
    "**Loading and Preprocessing the Data**\n",
    "\n",
    "pyTorch comes with several popular datasets \"built in\", so you can easily download these without having to deal with custom file formats."
   ]
  },
  {
   "cell_type": "code",
   "execution_count": 93,
   "id": "a900245e-b7d7-4765-83b7-2d9fa9b11ab2",
   "metadata": {},
   "outputs": [
    {
     "name": "stdout",
     "output_type": "stream",
     "text": [
      "Files already downloaded and verified\n",
      "Files already downloaded and verified\n"
     ]
    }
   ],
   "source": [
    "import torch\n",
    "from torchvision import datasets, transforms\n",
    "from torch.utils.data import DataLoader\n",
    "\n",
    "import torch.optim as optim\n",
    "\n",
    "# Load training set\n",
    "train_dataset = datasets.CIFAR10(root='./data', train=True, download=True, transform = transforms.ToTensor())\n",
    "train_loader = DataLoader(train_dataset, batch_size=64, shuffle=True)\n",
    "\n",
    "# Load test set\n",
    "test_dataset = datasets.CIFAR10(root='./data', train=False, download=True, transform = transforms.ToTensor())\n",
    "test_loader = DataLoader(test_dataset, batch_size=64, shuffle=False)"
   ]
  },
  {
   "cell_type": "code",
   "execution_count": 92,
   "id": "ecd85ce8-f75b-417f-8012-c052cc8228fe",
   "metadata": {},
   "outputs": [
    {
     "name": "stdout",
     "output_type": "stream",
     "text": [
      "Class 2 -- bird\n"
     ]
    },
    {
     "data": {
      "image/png": "[encoded data removed]",
      "text/plain": [
       "<Figure size 640x480 with 1 Axes>"
      ]
     },
     "metadata": {},
     "output_type": "display_data"
    }
   ],
   "source": [
    "from matplotlib import pyplot as plt\n",
    "\n",
    "def show_image_and_label(dataset,idx):\n",
    "    image, label = train_dataset[idx] # Get image and label \n",
    "    print(f\"Class {label} -- {train_dataset.classes[label]}\")  # find corresponding text \n",
    "    plt.imshow(image.permute(1,2,0))\n",
    "\n",
    "show_image_and_label(train_dataset,120)"
   ]
  },
  {
   "cell_type": "code",
   "execution_count": 73,
   "id": "cd308b11-c82d-4015-8d68-cfe6ceb11296",
   "metadata": {},
   "outputs": [
    {
     "data": {
      "text/plain": [
       "torch.Size([3, 32, 32])"
      ]
     },
     "execution_count": 73,
     "metadata": {},
     "output_type": "execute_result"
    }
   ],
   "source": [
    "image,label = train_dataset[0]\n",
    "image.shape\n"
   ]
  },
  {
   "cell_type": "markdown",
   "id": "b805b898-6e04-429d-9eef-38e3fc5da014",
   "metadata": {},
   "source": [
    "Note: Each image tensor is of size (3,32,32), which is what the CNN layers expect. To display the image we had to rotate the dimensions so that the tensor matches the format required by matplotlib. "
   ]
  },
  {
   "cell_type": "markdown",
   "id": "262fd5df-26fe-4565-af47-a6d6f4a7fe98",
   "metadata": {},
   "source": [
    "As we saw with other datasets, normalizing the data is helpful. For each pixel (in each color channel) we want to subract the mean and divide by the standard deviation. Let's compute these first."
   ]
  },
  {
   "cell_type": "code",
   "execution_count": 65,
   "id": "e8f96f1a-8911-4e74-aac9-1bcb91d6e141",
   "metadata": {},
   "outputs": [],
   "source": [
    "def compute_mean_std(dataset):\n",
    "    \n",
    "    mean = torch.zeros(3)\n",
    "    std = torch.zeros(3)\n",
    "    num_pixels = 0\n",
    "\n",
    "    for image, label in dataset:\n",
    "        # image shape: (3, H, W)\n",
    "        num_pixels += image.shape[1] * image.shape[2] \n",
    "        for i in range(3):\n",
    "            mean[i] += image[i, :, :].sum()\n",
    "            std[i] += (image[i, :, :] ** 2).sum()\n",
    "\n",
    "    mean /= num_pixels\n",
    "    std = (std / num_pixels - mean ** 2).sqrt()\n",
    "    return mean, std"
   ]
  },
  {
   "cell_type": "code",
   "execution_count": 66,
   "id": "87613023-ec16-453c-83ee-f1ff9e33bebc",
   "metadata": {},
   "outputs": [
    {
     "data": {
      "text/plain": [
       "(tensor([0.4914, 0.4822, 0.4465]), tensor([0.2470, 0.2435, 0.2616]))"
      ]
     },
     "execution_count": 66,
     "metadata": {},
     "output_type": "execute_result"
    }
   ],
   "source": [
    "compute_mean_std(train_dataset)"
   ]
  },
  {
   "cell_type": "markdown",
   "id": "e0ad3299-3d2a-4136-8908-2f46e27f16d6",
   "metadata": {},
   "source": [
    "We can then use these values to transform the training data when we read it in."
   ]
  },
  {
   "cell_type": "code",
   "execution_count": 76,
   "id": "179a44b0-4e56-45a5-8323-5160efb9f3a1",
   "metadata": {},
   "outputs": [
    {
     "name": "stdout",
     "output_type": "stream",
     "text": [
      "Files already downloaded and verified\n",
      "Files already downloaded and verified\n"
     ]
    }
   ],
   "source": [
    "transform = transforms.Compose([\n",
    "    transforms.ToTensor(),\n",
    "    transforms.Normalize(mean=[0.4914, 0.4822, 0.4465],\n",
    "                         std=[0.2470, 0.2435, 0.2616])\n",
    "])\n",
    "\n",
    "train_dataset = datasets.CIFAR10(root='./data', train=True, download=True, transform = transforms.ToTensor())\n",
    "train_loader = DataLoader(train_dataset, batch_size=64, shuffle=True)\n",
    "\n",
    "# Load test set\n",
    "test_dataset = datasets.CIFAR10(root='./data', train=False, download=True, transform = transforms.ToTensor())\n",
    "test_loader = DataLoader(test_dataset, batch_size=64, shuffle=False)"
   ]
  },
  {
   "cell_type": "code",
   "execution_count": 80,
   "id": "68429563-bd29-49e4-b1ca-ef5bc3a0f4fc",
   "metadata": {},
   "outputs": [
    {
     "name": "stdout",
     "output_type": "stream",
     "text": [
      "Class 0 -- airplane\n",
      "torch.Size([3, 32, 32])\n"
     ]
    },
    {
     "data": {
      "image/png": "[encoded data removed]",
      "text/plain": [
       "<Figure size 640x480 with 1 Axes>"
      ]
     },
     "metadata": {},
     "output_type": "display_data"
    }
   ],
   "source": [
    "show_image_and_label(train_dataset,700)"
   ]
  },
  {
   "cell_type": "markdown",
   "id": "df759533-67db-4164-b580-2299521ed0a2",
   "metadata": {},
   "source": [
    "*****Building a Convolutional Neural Network*****"
   ]
  },
  {
   "cell_type": "markdown",
   "id": "5dbc59a4-c375-46ea-a00d-ada335a85056",
   "metadata": {},
   "source": [
    "Build a CNN vision classifier using alternating layers of 2D convolution and pooling. Finally, pass the representation through two linear layers in order to make a prediction. \n",
    "Start with the following architecture, and then continue to experiment. \n",
    "\n",
    "* Two convolution \"block\" of the following:\n",
    "  1. 2D convolution (Conv2d) with 16 kernels, kernel size 3, stride 1, 1 pixel padding on each side.\n",
    "  2. pointwise relU activation \n",
    "  3. Max pool using a 2,2 window (i.e. cutting the size in half).\n",
    "* Then feed the resulting representation through a classification layer, and then to the 10 unit output. \n",
    "For the hidden layer, start with 64 hidden units. "
   ]
  },
  {
   "cell_type": "markdown",
   "id": "07bc10b7-2063-4c3d-b22b-ed18ba1b3a6d",
   "metadata": {},
   "source": [
    "For the convolution layers, you will hve to use something like this: \n",
    "\n",
    "[`nn.Conv2d(in_channels, out_channels, kernel_size=..., padding=..., stride=...)`](https://docs.pytorch.org/docs/stable/generated/torch.nn.functional.conv2d.html)\n",
    "\n",
    "Note, the out_channels specify the number of kernels. \n",
    "\n",
    "For the pooling layers, you will have to use \n",
    "\n",
    "[`nn.MaxPool2d(2, 2)`](https://docs.pytorch.org/docs/2.8/generated/torch.nn.MaxPool2d.html) where the parameters specify the size of the sliding window. "
   ]
  },
  {
   "cell_type": "code",
   "execution_count": 151,
   "id": "d483bebc-4217-402d-a265-bf7ce7292471",
   "metadata": {},
   "outputs": [],
   "source": [
    "import torch\n",
    "import torch.nn as nn\n",
    "import torch.nn.functional as F\n",
    "\n",
    "class SimpleCNN(nn.Module):\n",
    "\n",
    "    def __init__(self): \n",
    "        super().__init__()\n",
    "        #...\n",
    "        \n",
    "    def forward(self, x):\n",
    "        #...\n",
    "        return \n"
   ]
  },
  {
   "cell_type": "code",
   "execution_count": 156,
   "id": "3106fca6-0167-4e5f-b78e-297b30ace2b0",
   "metadata": {},
   "outputs": [],
   "source": [
    "# Here is some code to train the model (it's essentially identical to other training functions, so there is no point in making you rewrite this).\n",
    "# After each epoch, the code also evaluates the model on the test data.\n",
    "\n",
    "def evaluate(model, loader, device):\n",
    "    model.eval()\n",
    "    val_loss = 0.0\n",
    "    val_correct = 0\n",
    "    val_total = 0\n",
    "\n",
    "    with torch.no_grad():\n",
    "        for images, labels in loader:\n",
    "            images, labels = images.to(device), labels.to(device)\n",
    "            outputs = model(images)\n",
    "            \n",
    "            _, predicted = torch.max(outputs, 1)\n",
    "            val_correct += (predicted == labels).sum().item()\n",
    "            val_total += labels.size(0)\n",
    "\n",
    "    accuracy = val_correct / val_total\n",
    "    return accuracy\n",
    "\n",
    "def train_model(model, train_loader, test_loader, num_epochs=10, learning_rate=0.001, device='cuda'):\n",
    "    model.to(device)\n",
    "    loss_fn = nn.CrossEntropyLoss()\n",
    "    optimizer = optim.Adam(model.parameters(), lr=learning_rate)\n",
    "\n",
    "    for epoch in range(num_epochs):\n",
    "        model.train()\n",
    "        running_loss = 0.0\n",
    "        correct = 0\n",
    "        total = 0\n",
    "\n",
    "        for images, labels in train_loader:\n",
    "            images, labels = images.to(device), labels.to(device)\n",
    "\n",
    "            optimizer.zero_grad()\n",
    "            outputs = model(images)\n",
    "            loss = loss_fn(outputs, labels)\n",
    "            loss.backward()\n",
    "            optimizer.step()\n",
    "\n",
    "            running_loss += loss.item() * images.size(0)\n",
    "            _, predicted = torch.max(outputs, 1)\n",
    "            correct += (predicted == labels).sum().item()\n",
    "            total += labels.size(0)\n",
    "\n",
    "        train_loss = running_loss / total\n",
    "        train_acc = correct / total\n",
    "\n",
    "        val_acc = evaluate(model, test_loader, device)\n",
    "\n",
    "        print(f\"Epoch {epoch+1}/{num_epochs}: \"\n",
    "              f\"Train Loss: {train_loss:.4f}, Train Acc: {train_acc:.4f}, \"\n",
    "              f\"Val Acc: {val_acc:.4f}\")"
   ]
  },
  {
   "cell_type": "code",
   "execution_count": null,
   "id": "f5efb568-5eb0-4a1e-8226-deb58338103c",
   "metadata": {},
   "outputs": [],
   "source": [
    "cnn = SimpleCNN()\n",
    "train_model(cnn, train_loader, test_loader)"
   ]
  },
  {
   "cell_type": "markdown",
   "id": "f48498ba-596f-4e28-a971-f7f1c58e1e45",
   "metadata": {},
   "source": [
    "Write a function that passes a"
   ]
  },
  {
   "cell_type": "markdown",
   "id": "2b10b8ba-f1b1-47a3-ba0b-cdea2d9e422e",
   "metadata": {},
   "source": [
    "### Part 2: Cifar 100\n",
    "\n",
    "Now download and preprocess the Cifar100 data and repeat the experiment. Modify the model above to account for the 100 output classes. \n",
    "Can you match the performance you got on Cifar10? "
   ]
  },
  {
   "cell_type": "code",
   "execution_count": 158,
   "id": "3e8f12d0-542e-4cf0-b3d8-5d6b5ea00973",
   "metadata": {},
   "outputs": [
    {
     "name": "stdout",
     "output_type": "stream",
     "text": [
      "Downloading https://www.cs.toronto.edu/~kriz/cifar-100-python.tar.gz to ./data/cifar-100-python.tar.gz\n"
     ]
    },
    {
     "name": "stderr",
     "output_type": "stream",
     "text": [
      "100%|██████████| 169001437/169001437 [00:01<00:00, 93037523.70it/s] \n"
     ]
    },
    {
     "name": "stdout",
     "output_type": "stream",
     "text": [
      "Extracting ./data/cifar-100-python.tar.gz to ./data\n",
      "Files already downloaded and verified\n"
     ]
    }
   ],
   "source": [
    "# Define transform (you can normalize later if needed)\n",
    "transform = transforms.ToTensor()\n",
    "\n",
    "# Load CIFAR-100 training and test sets\n",
    "train_dataset = datasets.CIFAR100(root='./data', train=True, download=True, transform=transform)\n",
    "test_dataset  = datasets.CIFAR100(root='./data', train=False, download=True, transform=transform)\n",
    "\n",
    "# Create data loaders\n",
    "train_loader = DataLoader(train_dataset, batch_size=64, shuffle=True)\n",
    "test_loader  = DataLoader(test_dataset, batch_size=64, shuffle=False)"
   ]
  },
  {
   "cell_type": "code",
   "execution_count": null,
   "id": "64cbe2c8-f133-4dbd-b48b-1efbc8185a8d",
   "metadata": {},
   "outputs": [],
   "source": []
  },
  {
   "cell_type": "markdown",
   "id": "5bad58a4-cac6-49e1-acaf-77164ea59078",
   "metadata": {},
   "source": [
    "Some things to try: \n",
    "\n",
    "* Increase the number of hidden units in the classification layer.\n",
    "* Train longer with larger batch size. \n",
    "* Increase the number of convolution layers and kernels. \n",
    "* Try adding BatchNorm: https://docs.pytorch.org/docs/stable/generated/torch.nn.BatchNorm2d.html\n",
    "        (this is performing the normalization operation above across all representations in a batch, making training more stable). \n",
    "* If your model is overfitting, try adding dropout: https://docs.pytorch.org/docs/stable/generated/torch.nn.Dropout2d.html\n",
    "    \n",
    "    "
   ]
  },
  {
   "cell_type": "code",
   "execution_count": null,
   "id": "f9b89eea-c83c-4716-b4c3-9289d79be43d",
   "metadata": {},
   "outputs": [],
   "source": []
  }
 ],
 "metadata": {
  "kernelspec": {
   "display_name": "Python 3 (ipykernel)",
   "language": "python",
   "name": "python3"
  },
  "language_info": {
   "codemirror_mode": {
    "name": "ipython",
    "version": 3
   },
   "file_extension": ".py",
   "mimetype": "text/x-python",
   "name": "python",
   "nbconvert_exporter": "python",
   "pygments_lexer": "ipython3",
   "version": "3.11.2"
  }
 },
 "nbformat": 4,
 "nbformat_minor": 5
}
