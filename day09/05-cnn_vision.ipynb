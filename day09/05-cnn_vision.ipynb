{
 "cells": [
  {
   "cell_type": "markdown",
   "id": "e5530e64-f017-4dbd-a72f-13b391deeb07",
   "metadata": {},
   "source": [
    "## Machine Learning and Artificial Intelligence \n",
    "Summer High School Academic Program for Engineers (2025)\n",
    "## Convolutional Neural Networks and Computer Vision"
   ]
  },
  {
   "cell_type": "markdown",
   "id": "e4d64426-b6dc-4620-88c3-23b1e4e26eaa",
   "metadata": {},
   "source": [
    "###### Image Classification and the Cifar datasets\n",
    "\n",
    "We will work on an an image classification task: Given an image (provided in the matplotlib format you are already familiar with), your goal is to identify the central object depicted, choosing from a set of possible object labels.\n",
    "\n",
    "The Cifar dataset contains 60000 images at 32x32 resolution with 3 color channels, each with a label. Labels are available in coarse form (Cifar10 - 10 total labels) and more fine-grained form (Cifar100 - 100 total labels)."
   ]
  },
  {
   "cell_type": "code",
   "execution_count": 2,
   "id": "5e099ba9-ae27-43b1-8f29-ebf55cdd15e9",
   "metadata": {},
   "outputs": [],
   "source": [
    "import pickle\n",
    "import numpy as np\n",
    "import torch\n",
    "import matplotlib.pyplot as plt\n",
    "\n",
    "def unpickle(file):\n",
    "    with open(file, 'rb') as fo:\n",
    "        dict = pickle.load(fo, encoding='latin1')\n",
    "    return dict\n",
    "\n",
    "# Load data -- adjust the path as needed\n",
    "train_dict = unpickle('cifar-100-python/train')\n",
    "test_dict = unpickle('cifar-100-python/test')\n",
    "\n",
    "# Extract images and labels\n",
    "X_train = train_dict['data']  # shape: (50000, 3072)\n",
    "y_train = train_dict['fine_labels']  # or 'coarse_labels'\n",
    "\n",
    "X_test = test_dict['data']\n",
    "y_test = test_dict['fine_labels']"
   ]
  },
  {
   "cell_type": "code",
   "execution_count": 3,
   "id": "f2e358e5-efd5-4fa2-9639-ae635303d12f",
   "metadata": {},
   "outputs": [
    {
     "data": {
      "text/plain": [
       "(3072,)"
      ]
     },
     "execution_count": 3,
     "metadata": {},
     "output_type": "execute_result"
    }
   ],
   "source": [
    "train_dict['data'][0].shape"
   ]
  },
  {
   "cell_type": "code",
   "execution_count": 4,
   "id": "0255c684-473f-4e53-a506-4568140f5794",
   "metadata": {},
   "outputs": [],
   "source": [
    "meta = unpickle('cifar-100-python/meta')\n",
    "label_names = meta['fine_label_names']  # List of 100 class names"
   ]
  },
  {
   "cell_type": "code",
   "execution_count": 5,
   "id": "376e1353-643d-4e92-9085-55fefe35df70",
   "metadata": {},
   "outputs": [
    {
     "data": {
      "text/plain": [
       "<matplotlib.image.AxesImage at 0x789eda267410>"
      ]
     },
     "execution_count": 5,
     "metadata": {},
     "output_type": "execute_result"
    },
    {
     "data": {
      "image/png": "[encoded data removed]",
      "text/plain": [
       "<Figure size 640x480 with 1 Axes>"
      ]
     },
     "metadata": {},
     "output_type": "display_data"
    }
   ],
   "source": [
    "plt.imshow(train_dict['data'][99].reshape(3,32,32).transpose((1,2,0)))"
   ]
  },
  {
   "cell_type": "code",
   "execution_count": 6,
   "id": "5d61a1cd-2d02-445c-a7a0-475a6c9f25e9",
   "metadata": {},
   "outputs": [
    {
     "data": {
      "text/plain": [
       "'turtle'"
      ]
     },
     "execution_count": 6,
     "metadata": {},
     "output_type": "execute_result"
    }
   ],
   "source": [
    "label_names[train_dict['fine_labels'][99]]"
   ]
  },
  {
   "cell_type": "markdown",
   "id": "c278c427-dc6a-497e-b028-0055e8798e1c",
   "metadata": {},
   "source": [
    "Note that image data is very different from the sort of tabular data we worked with so far. In tabular data, relevant feature have already been extracted through **manual feature engineering**. In image data (and text data -- see next week), we do not have an explicit set of features and we use neural networks to automaticically extract features. This is known as **representation learning**."
   ]
  },
  {
   "cell_type": "markdown",
   "id": "80cc6648-adf1-4de5-b3da-95609ee55274",
   "metadata": {},
   "source": [
    "Let's say we want to train a standard feed forward neural network to classify these images. Each image has 32*32=1024 pixels. There are three color channels, so we get (3,32,32) tensors representing each image -- a total of 3072 input units. \n",
    "\n",
    "Every unit in the first hidden layer will have to be connected to each of these input units. A single hidden layer of size 100 would therefore need 10*3072 = 307,200 parameters!\n",
    "\n",
    "CNNs offer a solution to this problem by learning to transform images into lower-dimensional representations that retain relevant information for classification. In CNN vision models, images are represented as a combination of increasingly abstract features that may appear in different local regions. \n",
    "\n",
    "<img src=\"https://www.cs.columbia.edu/~bauer/shape/cnn_feature_hierarchy.png\" width=600px>\n",
    "\n",
    "When building a feed-forward network for MNIST, you may have realized that the number of parameters quickly becomes very large. You could train such a model on modern GPUs. Historically, one of the first CNNs was LeNet5 (LeCun et al, 1998), which was applied to MNIST. At that time, GPUs didn't exist and automatic feature extraction was a novel idea."
   ]
  },
  {
   "cell_type": "markdown",
   "id": "841ad46d-e28c-4558-bb03-6ac3bfeb05e8",
   "metadata": {},
   "source": [
    "### Convolution in 1D\n",
    "\n",
    "Assume we have an input sequence such as the following (maybe a time series, such as a sequence of daily stock prices). This is different from the sort of tabular feature-based representations we have seen so far.  "
   ]
  },
  {
   "cell_type": "code",
   "execution_count": 302,
   "id": "2017c008-608a-473d-8de3-59a17e7553eb",
   "metadata": {},
   "outputs": [],
   "source": [
    "x = torch.tensor([4, 5, 1, 6, 8]) # size 5"
   ]
  },
  {
   "cell_type": "markdown",
   "id": "5f6ba286-ac44-4e8e-a0d7-b4ab063b6dab",
   "metadata": {},
   "source": [
    "Assume we create a feed-forward layer of size (4,). This would require a (5x4) weight matrix, that is 20 total parameters (plus the bias).\n",
    "\n",
    "Now assume instead that we have a \"**kernel**\" (also called a **filter**), which is a matrix of size (2,). "
   ]
  },
  {
   "cell_type": "code",
   "execution_count": 305,
   "id": "b35a3e66-ef2c-4af8-af77-bda19479119d",
   "metadata": {},
   "outputs": [],
   "source": [
    "kernel = torch.tensor([-1,1])"
   ]
  },
  {
   "cell_type": "markdown",
   "id": "a43707f4-201a-4f33-b864-f1e5cda8d7f1",
   "metadata": {},
   "source": [
    "We now slide the kernel over the input, computing a dot product in each step. "
   ]
  },
  {
   "cell_type": "code",
   "execution_count": 308,
   "id": "3c568718-b681-44d5-a419-46d140886574",
   "metadata": {},
   "outputs": [
    {
     "data": {
      "text/plain": [
       "tensor(1)"
      ]
     },
     "execution_count": 308,
     "metadata": {},
     "output_type": "execute_result"
    }
   ],
   "source": [
    "x[0:2] @ kernel   # [4,5] @ [-1,1]^T = 4*-1 + 5*1 = 1 "
   ]
  },
  {
   "cell_type": "code",
   "execution_count": 310,
   "id": "94036538-a44c-45cc-8c4a-b2a781a21f76",
   "metadata": {},
   "outputs": [
    {
     "data": {
      "text/plain": [
       "tensor(-4)"
      ]
     },
     "execution_count": 310,
     "metadata": {},
     "output_type": "execute_result"
    }
   ],
   "source": [
    "x[1:3] @ kernel # [5,1] @ [-1, 1]^T = 5*-1 + 1*1 = -4"
   ]
  },
  {
   "cell_type": "code",
   "execution_count": 312,
   "id": "c51422a5-a380-4e13-9d05-1d69c41c7108",
   "metadata": {},
   "outputs": [
    {
     "data": {
      "text/plain": [
       "tensor(5)"
      ]
     },
     "execution_count": 312,
     "metadata": {},
     "output_type": "execute_result"
    }
   ],
   "source": [
    "x[2:4] @ kernel"
   ]
  },
  {
   "cell_type": "code",
   "execution_count": 314,
   "id": "125c3232-5931-4059-bd1b-e36e52269f2e",
   "metadata": {},
   "outputs": [
    {
     "data": {
      "text/plain": [
       "tensor(2)"
      ]
     },
     "execution_count": 314,
     "metadata": {},
     "output_type": "execute_result"
    }
   ],
   "source": [
    "x[3:5] @ kernel"
   ]
  },
  {
   "cell_type": "markdown",
   "id": "fde82adc-cc44-4d23-8126-3ce3926ec275",
   "metadata": {},
   "source": [
    "We then put the results back into a vector"
   ]
  },
  {
   "cell_type": "code",
   "execution_count": 324,
   "id": "557234f2-b12a-4660-b4ba-80b8d9a517f4",
   "metadata": {},
   "outputs": [
    {
     "data": {
      "text/plain": [
       "tensor([ 1, -4,  5,  2])"
      ]
     },
     "execution_count": 324,
     "metadata": {},
     "output_type": "execute_result"
    }
   ],
   "source": [
    "output = torch.tensor([x[i:i+2] @ kernel for i in range(len(x)-1)])\n",
    "output"
   ]
  },
  {
   "cell_type": "markdown",
   "id": "745d6382-669a-47b3-a028-8a1f12f96d69",
   "metadata": {},
   "source": [
    "This operation is called a **convolution** of the input (side note: in mathematical terms this operation is more correctly called cross-correlation, but in ML people use the term convolution). The output is often called a **feature map**.\n",
    "\n",
    "The idea is that the kernel can pick up occurences of a certain pattern/feature in the input. In this example, the feature will match any region of the input that show large changes between consecutive values: -4 indicates a steep drop from 5 to 1, while 5 indicates an indcrease from 1 to 6. \n",
    "\n",
    "The result is a size (5,) representation of the input that can be used, for example, for a classification task (for instance, maybe many sharp changes suggest volatility and thus indicate that we should sell the stock). The kernel is a weight vector that is learned while we train the model on the classification task. \n",
    "\n",
    "Note that convolution requires far fewer parameters, i.e. the size of the filter(2 features instead of 20!). It does however make an assumption that a good representation for the object can be obtained from the local features. \n",
    "\n",
    "In an actual implementation, the filter does not actually \"slide\" the filter over the input step by step. Instead, the filter is applied to all input positions simultaneously using batching, so this operation can be parallelized on a GPU. There really are only 2 weights and they are shared between all the input positions. "
   ]
  },
  {
   "cell_type": "markdown",
   "id": "54678b33-3301-4f44-8dd4-aa9743372bea",
   "metadata": {},
   "source": [
    "### 2D Convolution Applied to Images"
   ]
  },
  {
   "attachments": {},
   "cell_type": "markdown",
   "id": "5ca31e93-dbbe-4b54-9c81-485ebae12c4d",
   "metadata": {},
   "source": [
    "Recall that we can represent an images as a (width,height,color_channels) tensor. \n",
    "\n",
    "<img src=\"http://www.cs.columbia.edu/~bauer/shape/image_representation.png\" width=300px>"
   ]
  },
  {
   "cell_type": "markdown",
   "id": "22715dd8-6fd4-41c6-9719-de5d5601a78d",
   "metadata": {},
   "source": [
    "#### Convolution on a single 2D Matrix\n",
    "\n",
    "Let's consider a single color channel first. We can define a filter in 2D. "
   ]
  },
  {
   "cell_type": "markdown",
   "id": "b0310ffb-afd5-4baf-9b4a-e23ab4f5961b",
   "metadata": {},
   "source": [
    "<img src=\"https://www.cs.columbia.edu/~bauer/shape/kernel_illustration1.png\" width=\"300px\"> <img src=\"https://www.cs.columbia.edu/~bauer/shape/kernel_illustration2.png\" width=\"300px\">"
   ]
  },
  {
   "cell_type": "markdown",
   "id": "f71f684b-b17c-4fd3-b534-5263d617aab9",
   "metadata": {},
   "source": [
    "As before, the filter is applied to all possible positions in the image. For each position we calculate the kernel activation as the weighted sum between the entries in the two matrices. For example, for the upper left position: $1 \\cdot 234 + 0 \\cdot 0 + 0 \\cdot 0 + 2\\cdot 230 = 694$. For the second position (left corner of the kernel matches row 1 column 2 of the input matrix): $1 \\cdot 0 + 0 \\cdot 0 + 0 \\cdot 230 + 2 \\cdot 7 = 140$\n",
    "\n",
    "There are 3x3=9 positions, so the resulting feature map is "
   ]
  },
  {
   "cell_type": "code",
   "execution_count": 293,
   "id": "469fbf9c-5e31-4ce1-8293-a73127c2652c",
   "metadata": {},
   "outputs": [
    {
     "data": {
      "text/plain": [
       "tensor([[694, 140,   0],\n",
       "        [  4, 684,  70],\n",
       "        [  4,   8, 517]])"
      ]
     },
     "execution_count": 293,
     "metadata": {},
     "output_type": "execute_result"
    }
   ],
   "source": [
    "torch.tensor([[694, 140,   0],\n",
    "              [  4, 684,  70],\n",
    "              [  4,   8, 517]])"
   ]
  },
  {
   "cell_type": "markdown",
   "id": "8af02b47-5ee2-48a5-96b6-1644f2ae458c",
   "metadata": {},
   "source": [
    "**Stride and Padding**\n",
    "\n",
    "When defining a convolution operation we can specify the stride and padding. \n",
    "\n",
    "**Stride** is the number of indices that the kernel \"slides\" in each step. In the example above, the stride is 1. If we set stride = 2, we move the kernel by 2 positions instead, skipping every other position.\n",
    "\n",
    "<img src=\"https://www.cs.columbia.edu/~bauer/shape/kernel_illustration3.png\" width=\"400px\"> \n",
    "\n",
    "Increasing the stride will result in future entries in the feature map. With stride=2, the feature map on a (4,4) matrix will be (2,2)."
   ]
  },
  {
   "cell_type": "code",
   "execution_count": 353,
   "id": "f58ec609-d03a-4eef-903f-a5b30545026f",
   "metadata": {},
   "outputs": [
    {
     "data": {
      "text/plain": [
       "tensor([[694,   0],\n",
       "        [  4, 517]])"
      ]
     },
     "execution_count": 353,
     "metadata": {},
     "output_type": "execute_result"
    }
   ],
   "source": [
    "torch.tensor([[694,0], \n",
    "              [4,517]])"
   ]
  },
  {
   "cell_type": "markdown",
   "id": "e9b6beed-5149-437e-b60f-69c6d911c987",
   "metadata": {},
   "source": [
    "**Padding** Padding allows the kernel to reach beyond the boundaries of the input matrix. Typically the matrix is padded with 0. \n",
    "<img src=\"https://www.cs.columbia.edu/~bauer/shape/kernel_illustration4.png\" width=\"350px\"> \n",
    "\n",
    "With padding, the size of the feature map is identical to the size of the input matrix.\n"
   ]
  },
  {
   "cell_type": "markdown",
   "id": "76ab9db0-6a1d-4125-82d9-fbd53432f700",
   "metadata": {},
   "source": [
    "#### Multiple Kernels\n",
    "\n",
    "We often apply multiple kernels at the same time, and then stack the resulting feature maps together into a 3D tensor. The idea is that each kernel will learn to focus on a different feature of the image. The different kernels are called \"out channels\" in pyTorch and the number of kernels is sometimes referred to as the \"depth\".\n",
    "\n",
    "<img src=\"https://www.cs.columbia.edu/~bauer/shape/kernel_illustration5.png\" width=\"400px\"> \n",
    "\n"
   ]
  },
  {
   "cell_type": "markdown",
   "id": "0b892d57-f2ae-4441-b647-a9c1e2b7b6bd",
   "metadata": {},
   "source": [
    "In the example, we have two kernels:"
   ]
  },
  {
   "cell_type": "code",
   "execution_count": 458,
   "id": "160cf809-b45b-41f2-bc99-f4c95f5de3c9",
   "metadata": {},
   "outputs": [
    {
     "data": {
      "text/plain": [
       "tensor([[[ 1.,  0.],\n",
       "         [ 0.,  2.]],\n",
       "\n",
       "        [[ 0.,  3.],\n",
       "         [-1.,  0.]]])"
      ]
     },
     "execution_count": 458,
     "metadata": {},
     "output_type": "execute_result"
    }
   ],
   "source": [
    "torch.tensor([[[1,0],[0,2]],[[0,3],[-1,0]]], dtype=torch.float)"
   ]
  },
  {
   "cell_type": "markdown",
   "id": "bece8271-3ca6-41a3-b5c2-8f26822d51e6",
   "metadata": {},
   "source": [
    "The input matrix is:"
   ]
  },
  {
   "cell_type": "code",
   "execution_count": 455,
   "id": "43cfb058-882b-4b11-ae02-f01c704b1e67",
   "metadata": {},
   "outputs": [
    {
     "data": {
      "text/plain": [
       "tensor([[234.,   0.,   0.,   0.],\n",
       "        [  0., 230.,  70.,   0.],\n",
       "        [  0.,   2., 227.,   0.],\n",
       "        [  0.,   2.,   3., 145.]])"
      ]
     },
     "execution_count": 455,
     "metadata": {},
     "output_type": "execute_result"
    }
   ],
   "source": [
    "torch.tensor([[234,0,0,0],[0,230,70,0],[0,2,227,0],[0,2,3,145]], dtype=torch.float)"
   ]
  },
  {
   "cell_type": "markdown",
   "id": "bcd50688-1477-4bc3-bc98-3653579ada78",
   "metadata": {},
   "source": [
    "Applying both kernels results in the tensor: "
   ]
  },
  {
   "cell_type": "code",
   "execution_count": 453,
   "id": "e7480fcc-ca2d-405c-9fcb-73e4eb437567",
   "metadata": {},
   "outputs": [
    {
     "data": {
      "text/plain": [
       "tensor([[[ 694.,  140.,    0.],\n",
       "         [   4.,  684.,   70.],\n",
       "         [   4.,    8.,  517.]],\n",
       "\n",
       "        [[   0., -230.,  -70.],\n",
       "         [ 690.,  208., -227.],\n",
       "         [   6.,  679.,   -3.]]])"
      ]
     },
     "execution_count": 453,
     "metadata": {},
     "output_type": "execute_result"
    }
   ],
   "source": [
    "torch.tensor([[[694., 140.,   0.],\n",
    "               [  4., 684.,  70.],\n",
    "               [  4.,   8., 517.]],\n",
    "\n",
    "               [[   0., -230.,  -70.],\n",
    "                [ 690.,  208., -227.],\n",
    "                [  6.,  679.,   -3.]]])"
   ]
  },
  {
   "cell_type": "markdown",
   "id": "add71185-dd53-4563-a6ea-0dd61103145a",
   "metadata": {},
   "source": [
    "Each kernel represents an abstract features, and the feature maps measure to what degree each feature appears in different local regions of the image. Visualizing the feature maps makes this intuition clear. \n",
    "\n",
    "<img src=\"https://www.cs.columbia.edu/~bauer/shape/feature_map_visualization.png\" width=\"500px\"> "
   ]
  },
  {
   "cell_type": "markdown",
   "id": "815405a1-dade-4bcb-a539-a0c6a79e10dd",
   "metadata": {},
   "source": [
    "#### Multiple Input Channels\n",
    "\n",
    "If we are working on images, we have 3 color channels (RGB). Similarly, if we have multiple convolution layers in a neural network, then subsequent layers will need to process the multiple \"out channels\" from the previous layer. \n",
    "\n",
    "Assume we just have a single kernel and three input channels. The kernel is applied to each channel individually, resulting in three different feature maps. Then, the resulting maps are summed pointwise, resulting in a single feature map. \n",
    "\n",
    "<img src=\"https://www.cs.columbia.edu/~bauer/shape/kernel_illustration6.png\" width=\"500px\"> \n"
   ]
  },
  {
   "cell_type": "markdown",
   "id": "09b62ef1-b3d9-41d8-a8da-f61794f31912",
   "metadata": {},
   "source": [
    "### Pooling\n",
    "\n",
    "Pooling reduces the dimensionality of a feature map (or stack of feature maps). The goal is to reduce the number of parameters, while maintainign the most relevant information in the feature map. In addition to saving memory it may also help prevent overfitting by generalizing over small differences in the image.\n",
    "\n",
    "Pooling is essentially a down-sampling method. We divide the feature map up into smaller (typically square) windows which may or may not overlap. As in convolution, this can be controlled using the stride parameter. Each of these sections results in a single value. We can either take the max value in the section (**max pooling**) or average the values (**value pooling**). \n",
    "\n",
    "For example, max pooling on a (4,4) feature map with window size 2x2 and stride 2 might look like this: \n",
    "\n",
    "<img src=\"https://www.cs.columbia.edu/~bauer/shape/pooling.png\" width=\"500px\"> "
   ]
  },
  {
   "cell_type": "markdown",
   "id": "fca65eff-9249-4391-a2e9-9c17856a1496",
   "metadata": {},
   "source": [
    "### Convolutional Neural Networks\n",
    "\n",
    "CNN vision models use Convolution and Pooling to learn increasingly abstract feature representations of an input image. Here is a (very basic) CNN vision model for the Cifar-10 task: "
   ]
  },
  {
   "cell_type": "markdown",
   "id": "65589d1b-981a-4246-bc15-ef5546c43cc7",
   "metadata": {},
   "source": [
    "<img src=\"https://www.cs.columbia.edu/~bauer/shape/cnn_architecture.png\" width=\"600px\">"
   ]
  },
  {
   "cell_type": "code",
   "execution_count": null,
   "id": "bfecd9e7-f81d-4428-a36f-a812e80e7606",
   "metadata": {},
   "outputs": [],
   "source": []
  }
 ],
 "metadata": {
  "kernelspec": {
   "display_name": "Python 3 (ipykernel)",
   "language": "python",
   "name": "python3"
  },
  "language_info": {
   "codemirror_mode": {
    "name": "ipython",
    "version": 3
   },
   "file_extension": ".py",
   "mimetype": "text/x-python",
   "name": "python",
   "nbconvert_exporter": "python",
   "pygments_lexer": "ipython3",
   "version": "3.11.2"
  }
 },
 "nbformat": 4,
 "nbformat_minor": 5
}
