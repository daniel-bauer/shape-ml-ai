{
 "cells": [
  {
   "cell_type": "markdown",
   "id": "525f0f98-d8f7-45ed-9297-490287fd29f0",
   "metadata": {},
   "source": [
    "### Machine Learning and Artificial Intelligence \n",
    "## 1 - Introduction to Supervised Machine Learning\n",
    "\n",
    "**Author:** <a href=\"https://www.cs.columbia.edu/~bauer\">Daniel Bauer <bauer@cs.columbia.edu></a>\n",
    "\n",
    "In this section, we will look at the basic framework of supervised machine learning, starting with an example data set.\n",
    "\n",
    "**Overview:**\n",
    "\n"
   ]
  },
  {
   "cell_type": "markdown",
   "id": "25a8efad-e390-46db-9cd2-9ead6e73ea5c",
   "metadata": {},
   "source": []
  },
  {
   "cell_type": "code",
   "execution_count": null,
   "id": "4c35b5e1-06fb-41e9-a313-5469774139cd",
   "metadata": {},
   "outputs": [],
   "source": []
  },
  {
   "cell_type": "code",
   "execution_count": null,
   "id": "46374025-9498-4de2-af6c-4ff6df0fb7eb",
   "metadata": {},
   "outputs": [],
   "source": []
  }
 ],
 "metadata": {
  "kernelspec": {
   "display_name": "Python 3 (ipykernel)",
   "language": "python",
   "name": "python3"
  },
  "language_info": {
   "codemirror_mode": {
    "name": "ipython",
    "version": 3
   },
   "file_extension": ".py",
   "mimetype": "text/x-python",
   "name": "python",
   "nbconvert_exporter": "python",
   "pygments_lexer": "ipython3",
   "version": "3.12.10"
  }
 },
 "nbformat": 4,
 "nbformat_minor": 5
}
