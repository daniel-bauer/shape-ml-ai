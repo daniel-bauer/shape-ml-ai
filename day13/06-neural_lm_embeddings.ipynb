{
 "cells": [
  {
   "cell_type": "markdown",
   "id": "70382da9-1b98-42c3-a09b-a31f94679187",
   "metadata": {},
   "source": [
    "## Machine Learning and Artificial Intelligence \n",
    "Summer High School Academic Program for Engineers (2025)\n",
    "## 6 - Understanding Words and Text: Neural Language Models \n",
    "\n",
    "**Author:** <a href=\"https://www.cs.columbia.edu/~bauer\">Daniel Bauer &lt;bauer@cs.columbia.edu&gt;</a>\n",
    "\n",
    "So far we encountered different types of inputs to our learning problems: tabular data and images. We saw that CNNs were useful for creating feature representations for images that we can then feed into a classifier. \n",
    "But what about text? \n",
    "\n",
    "Assume we have a bunch of movie reviews and we want to classify them into positive and negative sentiment. \n",
    "\n",
    "> This movie was absolutely fantastic! The storyline was gripping, the acting was top-notch, and the cinematography was breathtaking. I was on the edge of my seat the entire time. Highly recommended! 👍\n",
    "\n",
    "or \n",
    "\n",
    "> I was really disappointed with this movie. The plot was predictable and the characters were flat. It felt like a waste of time. Definitely not worth watching. 👎\n",
    "\n",
    "We need to find a way of encoding each review as a vector so we can feed it into a classifier. To do this, we need to figure out how to represent individual words, combine them into sequence representations, and we need to deal with the issue that text can be arbitrarily long sequences (unlike images which can be scaled and cropped to a specific input size). \n",
    "\n",
    "We will start with the problem of representing words and will then revisit sequence encoding later. "
   ]
  },
  {
   "cell_type": "markdown",
   "id": "e1bffd01-7eca-42e6-9d06-019ac11575c0",
   "metadata": {},
   "source": [
    "### Types, Tokens, and Word Vectors\n",
    "\n",
    "The individual word occurences in a text are called **tokens** (counting words that appear more than once multiple times). \n",
    "The different words in a text (not counting duplicates) are the **types**. For example in the sequence \"to be or not to be\" there are 6 tokens but only 4 types \"to\", \"be\", \"or\", and \"not\".\n",
    "\n",
    "The inventory of possible types that may appear in a text (and that our models will know about) is called the **vocabulary**. One issue we will have to deal with is tokens that appear in the test data that were not seen during training. \n",
    "\n",
    "**Words as Vectors** \n",
    "\n",
    "How should we represent the individual types in the vocabulary as vectors? A simple option would be to use a 1-hot vector with one dimension for each type in the vocabulary. For example: \n",
    "\n",
    "`[[dog]] = [0,0,..0,1,0,...0]\n",
    "[[cat]] = [0,0,..0,0,1,...0]`\n"
   ]
  },
  {
   "cell_type": "markdown",
   "id": "cd6465cf-7cda-4ab1-9184-62064981da0a",
   "metadata": {},
   "source": [
    "But considering a typical vocabulary contains more than 10,000 types, this becomes impractical. Neural networks also have trouble learning with sparse vectors (where most components are 0). \n",
    "More importantly, these 1-hot vectors do not tell us anything about what the words *mean* or how they may interact in a sentence. For example, we would ideally want the vector for [[dog]] and [[cat]] to be similar. But any non-identical pair of 1-hot vectors will have a dot product of 0. \n",
    "\n",
    "We would therefore like to produce some lower-dimensional (typically between 100 and 1,000 components) dense vector repersentation (where few or none of the components are 0. We want similar vectors for types that are semantically similar, in the sense that they may appear in similar contexts in a sentence! These dense vectors are known as **word embeddings**. The idea that the context(s) that a word appears in tells us something about its meaning is called the **distributional hypothesis**. For example \"they adopted a dog\" and \"they adopted a cat\", \"he fed the dog\", \"she fed the cat\". "
   ]
  },
  {
   "cell_type": "code",
   "execution_count": 32,
   "id": "7188a78e-bcb8-4340-b065-471a315ff550",
   "metadata": {},
   "outputs": [
    {
     "data": {
      "text/plain": [
       "8.3703"
      ]
     },
     "execution_count": 32,
     "metadata": {},
     "output_type": "execute_result"
    }
   ],
   "source": [
    "import numpy as np\n",
    "\n",
    "dog = np.array([\n",
    "    0.12, -0.34, 0.56, 0.78, -0.45,\n",
    "    0.23, 0.67, -0.12, -0.89, 0.34,\n",
    "    0.05, -0.22, 0.11, 0.44, -0.31,\n",
    "    0.09, 0.71, -0.65, 0.38, -0.07,\n",
    "    0.53, -0.48, 0.25, -0.13, 0.47,\n",
    "    -0.28, 0.19, 0.64, -0.55, 0.30,\n",
    "    0.42, -0.37, 0.15, 0.26, -0.50,\n",
    "    0.33, -0.21, 0.60, -0.12, 0.49,\n",
    "    -0.44, 0.20, 0.58, -0.31, 0.07,\n",
    "    0.14, -0.29, 0.39, -0.22, 0.61\n",
    "])\n",
    "\n",
    "cat = np.array([\n",
    "    0.15, -0.30, 0.52, 0.81, -0.40,\n",
    "    0.20, 0.65, -0.10, -0.85, 0.38,\n",
    "    0.08, -0.25, 0.14, 0.48, -0.28,\n",
    "    0.11, 0.74, -0.60, 0.35, -0.05,\n",
    "    0.50, -0.45, 0.28, -0.11, 0.43,\n",
    "    -0.25, 0.22, 0.60, -0.52, 0.27,\n",
    "    0.40, -0.34, 0.18, 0.22, -0.47,\n",
    "    0.37, -0.19, 0.63, -0.10, 0.52,\n",
    "    -0.41, 0.25, 0.54, -0.28, 0.10,\n",
    "    0.17, -0.32, 0.35, -0.18, 0.58\n",
    "])\n",
    "\n",
    "np.dot(dog, cat) "
   ]
  },
  {
   "cell_type": "code",
   "execution_count": 33,
   "id": "bf96a956-a2cc-485d-927e-abc1e07d7480",
   "metadata": {},
   "outputs": [
    {
     "data": {
      "text/plain": [
       "0.9970969424287919"
      ]
     },
     "execution_count": 33,
     "metadata": {},
     "output_type": "execute_result"
    }
   ],
   "source": [
    "def cos(u,v): \n",
    "    magnitude_u = np.linalg.norm(u)\n",
    "    magnitude_v = np.linalg.norm(v)\n",
    "    return np.dot(u,v) / (magnitude_u * magnitude_v)\n",
    "\n",
    "cos(dog,cat)"
   ]
  },
  {
   "cell_type": "markdown",
   "id": "698f4b04-544d-4065-a833-69f0c9bea3fd",
   "metadata": {},
   "source": [
    "Ensuring that similar words also have similar vector representations will allow the neural network models to learn generalizations."
   ]
  },
  {
   "cell_type": "markdown",
   "id": "101ffc6e-ce41-4209-8d6a-bb4c2abf8dbc",
   "metadata": {},
   "source": [
    "### Language Model and Next Word Prediction"
   ]
  },
  {
   "cell_type": "markdown",
   "id": "e5f7f16b-39ac-4c5b-9063-d20c70015e8a",
   "metadata": {},
   "source": [
    "The goal of language modeling is to assign a probability to a sequence of tokens. This can be useful in tasks where we want to compare two different outputs, for example candidate translations in a machine translation system: we simply select the one with the higher probability. \n",
    "\n",
    "The probability of a sequence factors into the individual word probabilities, where each token is conditioned on all other token in the sentence. Typically we assume that each token is only conditions on the words to the left (since text is read/written/spoken from left-to-right) and that there is a limited horizon of $k-1$ tokens to consider (the limited horizon assumption is known as the **Markov Assumption**). For example if $k=3$, each token depends on the previous two. \n",
    "\n",
    "$$P(w_1, \\ldots, w_T) = P(w_1 | START, START) P(w_2 | START, w_1) P(w_3 | w_1, w_2) \\cdots P(w_T | w_{T-2} w_{T-1}) P(STOP | w_T  w_{T-1})$$\n",
    "\n",
    "We can thus train a model to take in two **context tokens** $w_{i-1}$ and $w_{i-2}$ and predict a probability distribution for possible **successor tokens** $w_i$. The task we are solving is **next word prediction**. Here is what the model might look like schematically:"
   ]
  },
  {
   "cell_type": "markdown",
   "id": "0b176ae4-6baa-46e3-9d45-97fc09b8f3ed",
   "metadata": {},
   "source": [
    "<img src=\"https://www.cs.columbia.edu/~bauer/shape/neural_lm.png\" width=500px>"
   ]
  },
  {
   "cell_type": "markdown",
   "id": "274d98a1-4626-42b5-bfb6-8ae45a7fae32",
   "metadata": {},
   "source": [
    "This problem is far from trivial. The output vocabulary is huge (10000 types or more) and there are often many possibilities for good successor words. \n",
    "\n",
    "If we represent the input words as one-hot vectors, the model will not be able to learn this effectively. Note that only one of the connections for each word from the input layer to the hidden layer would be active. The model may be able to memorize the specific input/output pairs we provide, but it would never be able to *generalize* to unseen inputs. For example, if we see \"through the prettiest\" then \"garden\" might still be a good next word. That's because \"through\" and \"into\" are similar, as are \"loveliest\" and \"prettiest\". \n",
    "\n",
    "**Language Models as Generator**\n",
    "Language models can also be used as generators. We start with the start context, then predict a probability distribution for the first word. We sample from this distribution to select a word. Then we concatenate that word with the context, apply the model to predict the next word, etc. This is, essentially, how LLMs generate output text (but, as we will see, with some additional tricks to make the language model much beter).\n"
   ]
  },
  {
   "cell_type": "markdown",
   "id": "5195881b-6c49-4543-8faa-5672f08793e1",
   "metadata": {},
   "source": [
    "### Learning Embedding Matrices\n",
    "\n",
    "The key to making this work is to learn **word embeddings**, dense low-dimensional word representations, as part of the prediction task in a separate hidden layer. \n",
    "We want all context words to share the same representation, so that a word like \"loveliest\" has the same representation no matter its input position. To do this, we use the same weight matrix for each input position. "
   ]
  },
  {
   "cell_type": "markdown",
   "id": "5e6d53eb-03ba-4d23-a35f-30de3645fe22",
   "metadata": {},
   "source": [
    "<img src=\"https://www.cs.columbia.edu/~bauer/shape/neural_lm_embeddings.png\" width=600px>"
   ]
  },
  {
   "cell_type": "markdown",
   "id": "29d21fa9-20ec-4df5-9605-66c8876d4190",
   "metadata": {},
   "source": [
    "Note that the embedding layer does not use an activation function. The activations at this layer therefore correspond to the embeddings of each input word, which are simpy the rows of the embdding matrix $E$. For example, this may be a $(150 \\times 10,000)$ matrix if our vocabulary is $10,000$ types and we want $150$ embedding dimensions. We learn the embdding weights like any other weight matrix. \n"
   ]
  },
  {
   "cell_type": "markdown",
   "id": "a54993f3-447f-4169-abba-0c8468e187a9",
   "metadata": {},
   "source": [
    "There are other approaches to learning these embeddings, such as the word2vec or GloVe models -- however they are all based on the same idea as the neural LM: learning to associate the context of a word (usually bidirectional context) with a target word."
   ]
  },
  {
   "cell_type": "markdown",
   "id": "a4c8f072-3a57-4e86-954b-cec14a923fb8",
   "metadata": {},
   "source": [
    "### Implementing a Neural LM\n",
    "\n",
    "We are going to use the Brown corpus, a carefully curated collection of about 1 million words of written American English, compiled from a variety of sources published in 1961. The Brown corpus has been historically significant in computational linguistics. "
   ]
  },
  {
   "cell_type": "code",
   "execution_count": 34,
   "id": "5a76b06d-8e18-45f3-8913-f93e8c536f5a",
   "metadata": {},
   "outputs": [],
   "source": [
    "import torch\n",
    "from torch.utils.data import Dataset, DataLoader\n",
    "from collections import Counter\n",
    "\n",
    "class BrownDataset(Dataset): \n",
    "\n",
    "    def __init__(self,filename, k=3,vocab_size = 10000, id_to_word = None): \n",
    "\n",
    "\n",
    "        if not id_to_word: \n",
    "            # First, obtain the vocabulary, we will use the vocab_size most frequent words\n",
    "            vocab_count = Counter()\n",
    "            with open(filename,'r') as f: \n",
    "                for line in f: \n",
    "                    tokens = line.strip().lower().split() # this version is pre-tokenized, so we don't have to do much work    \n",
    "                    vocab_count.update(tokens)\n",
    "            vocab = [t for t,count in vocab_count.most_common(vocab_size-3)] # reserve 3 entries in the vocab for special symbols\n",
    "            # add special symbols\n",
    "            vocab.insert(0,\"UNK\")\n",
    "            vocab.insert(0,\"END\")\n",
    "            vocab.insert(0,\"START\")\n",
    "            self.id_to_word = dict(enumerate(vocab))\n",
    "        else: \n",
    "            self.id_to_word = id_to_word\n",
    "            \n",
    "        self.word_to_id = {word:ident for ident,word in self.id_to_word.items()}\n",
    "\n",
    "        # now obtain the n-grams\n",
    "        self.ngrams = []\n",
    "        with open(filename,'r') as f: \n",
    "            for line in f: \n",
    "                tokens = line.strip().lower().split() # this version is pre-tokenized, so we don't have to do much work            \n",
    "                tokens = [\"START\"]*(k-1) + tokens + [\"END\"] # pad with start and end\n",
    "                tokens = [t if (t in self.word_to_id) else \"UNK\" for t in tokens] #replace unknown tokens            \n",
    "                \n",
    "                ngrams = [tokens[i:i+k] for i in range(len(tokens)-k+1)]            \n",
    "                self.ngrams.extend(ngrams)                    \n",
    "        \n",
    "    def __len__(self): \n",
    "        return len(self.ngrams)\n",
    "\n",
    "    def __getitem__(self, k):\n",
    "        ngram = self.ngrams[k]\n",
    "        context = torch.tensor([self.word_to_id[w] for w in ngram[:-1]])\n",
    "        target = torch.tensor(self.word_to_id[ngram[-1]])\n",
    "        return context,target"
   ]
  },
  {
   "cell_type": "code",
   "execution_count": 35,
   "id": "b3d49be1-a8f3-4172-ae0e-b3824481fa07",
   "metadata": {},
   "outputs": [],
   "source": [
    "data = BrownDataset(\"brown_train.txt\",k=4)"
   ]
  },
  {
   "cell_type": "code",
   "execution_count": 38,
   "id": "3ceb3244-983f-4c4b-a170-7fb63f7f8f6e",
   "metadata": {},
   "outputs": [
    {
     "data": {
      "text/plain": [
       "(tensor([0, 0, 3]), tensor(4906))"
      ]
     },
     "execution_count": 38,
     "metadata": {},
     "output_type": "execute_result"
    }
   ],
   "source": [
    "data[1]"
   ]
  },
  {
   "cell_type": "code",
   "execution_count": 39,
   "id": "8d49bf9f-6d02-415a-a2a4-194c56d75608",
   "metadata": {},
   "outputs": [
    {
     "data": {
      "text/plain": [
       "'fulton'"
      ]
     },
     "execution_count": 39,
     "metadata": {},
     "output_type": "execute_result"
    }
   ],
   "source": [
    "data.id_to_word[4906]"
   ]
  },
  {
   "cell_type": "markdown",
   "id": "15f0813a-e952-49fe-9044-876a9337254f",
   "metadata": {},
   "source": [
    "Then define the model:"
   ]
  },
  {
   "cell_type": "code",
   "execution_count": 40,
   "id": "7a0c1c95-6c7a-40c8-b628-f719b06ee70c",
   "metadata": {},
   "outputs": [],
   "source": [
    "from torch import nn\n",
    "\n",
    "class TrigramLM(nn.Module):\n",
    "    def __init__(self, vocab_size, k=4, emb_dim=128, hidden_dim=512):\n",
    "    \n",
    "        super().__init__()\n",
    "        \n",
    "        self.E = nn.Embedding(vocab_size, emb_dim) \n",
    "        self.hidden = nn.Linear(emb_dim*(k-1), hidden_dim)\n",
    "        self.relu = nn.ReLU()\n",
    "        self.dropout = nn.Dropout(0.2)\n",
    "        self.out = nn.Linear(hidden_dim, vocab_size)\n",
    "        \n",
    "    def forward(self, x):\n",
    "        emb = self.E(x)                     # (batch, context length, emb_dim)\n",
    "        flattened = emb.view(x.size(0), -1) # flatten to (batch, 3*emb_dim)\n",
    "        h = self.relu(self.hidden(flattened))\n",
    "        h = self.dropout(h)\n",
    "        out = self.out(h)\n",
    "        return out"
   ]
  },
  {
   "cell_type": "code",
   "execution_count": 42,
   "id": "104e8e62-1203-4faf-888e-a563a0514de0",
   "metadata": {},
   "outputs": [
    {
     "data": {
      "text/plain": [
       "torch.Size([1, 10000])"
      ]
     },
     "execution_count": 42,
     "metadata": {},
     "output_type": "execute_result"
    }
   ],
   "source": [
    "vocab_size = len(data.id_to_word)\n",
    "model = TrigramLM(vocab_size)\n",
    "x,y = data[0]\n",
    "model(x.unsqueeze(0)).shape"
   ]
  },
  {
   "cell_type": "code",
   "execution_count": 10,
   "id": "1170b706-56a2-4a73-8803-9c5652c68725",
   "metadata": {},
   "outputs": [],
   "source": [
    "from torch import optim \n",
    "from tqdm import tqdm\n",
    "\n",
    "def train_model(model, train_loader, num_epochs=10, learning_rate=0.001, device='cuda'):\n",
    "    model.to(device)\n",
    "    loss_fn = nn.CrossEntropyLoss()\n",
    "    optimizer = optim.Adam(model.parameters(), lr=learning_rate)\n",
    "\n",
    "    for epoch in range(num_epochs):\n",
    "        model.train()\n",
    "        running_loss = 0.0\n",
    "        correct = 0\n",
    "        total = 0\n",
    "\n",
    "        for context, target in tqdm(train_loader):\n",
    "            context, target = context.to(device), target.to(device)\n",
    "\n",
    "            optimizer.zero_grad()\n",
    "            outputs = model(context)\n",
    "            loss = loss_fn(outputs, target)\n",
    "            loss.backward()\n",
    "            optimizer.step()\n",
    "\n",
    "            running_loss += loss.item() * context.size(0)\n",
    "            _, predicted = torch.max(outputs, 1)\n",
    "            correct += (predicted == target).sum().item()\n",
    "            total += target.size(0)\n",
    "\n",
    "        train_loss = running_loss / total\n",
    "        train_acc = correct / total\n",
    "\n",
    "        print(f\"Epoch {epoch+1}/{num_epochs}: Train Loss: {train_loss:.4f}, Train Acc: {train_acc:.4f}\")"
   ]
  },
  {
   "cell_type": "code",
   "execution_count": 11,
   "id": "06e9fba2-b7eb-4ee0-b9d2-565c4f24f535",
   "metadata": {},
   "outputs": [],
   "source": [
    "train_loader = DataLoader(data, batch_size = 256, shuffle=True)"
   ]
  },
  {
   "cell_type": "code",
   "execution_count": 70,
   "id": "afd684b3-5149-4af3-abda-abf9f84b7f3d",
   "metadata": {},
   "outputs": [
    {
     "name": "stderr",
     "output_type": "stream",
     "text": [
      "100%|██████████| 4073/4073 [00:21<00:00, 193.16it/s]\n"
     ]
    },
    {
     "name": "stdout",
     "output_type": "stream",
     "text": [
      "Epoch 1/5: Train Loss: 4.5635, Train Acc: 0.2233\n"
     ]
    },
    {
     "name": "stderr",
     "output_type": "stream",
     "text": [
      "100%|██████████| 4073/4073 [00:19<00:00, 208.82it/s]\n"
     ]
    },
    {
     "name": "stdout",
     "output_type": "stream",
     "text": [
      "Epoch 2/5: Train Loss: 4.5144, Train Acc: 0.2245\n"
     ]
    },
    {
     "name": "stderr",
     "output_type": "stream",
     "text": [
      "100%|██████████| 4073/4073 [00:19<00:00, 203.65it/s]\n"
     ]
    },
    {
     "name": "stdout",
     "output_type": "stream",
     "text": [
      "Epoch 3/5: Train Loss: 4.4658, Train Acc: 0.2262\n"
     ]
    },
    {
     "name": "stderr",
     "output_type": "stream",
     "text": [
      "100%|██████████| 4073/4073 [00:19<00:00, 210.99it/s]\n"
     ]
    },
    {
     "name": "stdout",
     "output_type": "stream",
     "text": [
      "Epoch 4/5: Train Loss: 4.4211, Train Acc: 0.2272\n"
     ]
    },
    {
     "name": "stderr",
     "output_type": "stream",
     "text": [
      "100%|██████████| 4073/4073 [00:20<00:00, 202.61it/s]"
     ]
    },
    {
     "name": "stdout",
     "output_type": "stream",
     "text": [
      "Epoch 5/5: Train Loss: 4.3842, Train Acc: 0.2288\n"
     ]
    },
    {
     "name": "stderr",
     "output_type": "stream",
     "text": [
      "\n"
     ]
    }
   ],
   "source": [
    "train_model(model, train_loader, num_epochs=5)"
   ]
  },
  {
   "cell_type": "markdown",
   "id": "258be841-60ed-472c-8ecd-08f3c28f7be7",
   "metadata": {},
   "source": [
    "#### Generating text \n",
    "\n",
    "We can use the model to generate text by sampling from the distribution of each successor token and then updating the context.  "
   ]
  },
  {
   "cell_type": "code",
   "execution_count": 71,
   "id": "7638f663-2bdc-4100-b894-a4af675fd652",
   "metadata": {},
   "outputs": [],
   "source": [
    "def generate(max_len = 10, prefix = '', k=4):\n",
    "    model.eval()\n",
    "    device = next(model.parameters()).device\n",
    "    if not prefix:         \n",
    "        context = ['START'] * (k-1)\n",
    "    else: \n",
    "        context = prefix.split() # in case a prefix string has been provided \n",
    "        \n",
    "    sentence = context[:]\n",
    "    for i in range(max_len):\n",
    "        ctx_idx = torch.tensor([data.word_to_id[x] for x in context]).unsqueeze(0).to(device)\n",
    "        with torch.no_grad():\n",
    "            prediction = model(ctx_idx)[0]\n",
    "            probs = torch.softmax(prediction, 0)\n",
    "            next_token = torch.multinomial(probs, 1).item()\n",
    "        next_word = data.id_to_word[next_token]\n",
    "        if next_word == 'END':\n",
    "            break\n",
    "        sentence.append(next_word)\n",
    "        context = context[1:] + [next_word]\n",
    "    return ' '.join(sentence)\n",
    "\n"
   ]
  },
  {
   "cell_type": "code",
   "execution_count": 72,
   "id": "1b17760b-8a27-4b4f-9e38-6235097b5551",
   "metadata": {},
   "outputs": [
    {
     "data": {
      "text/plain": [
       "\"START START START then , the forces for eye '' , the american UNK which you know how a little approach in the\""
      ]
     },
     "execution_count": 72,
     "metadata": {},
     "output_type": "execute_result"
    }
   ],
   "source": [
    "generate(20)"
   ]
  },
  {
   "cell_type": "markdown",
   "id": "2718224f-62f5-429a-90e2-1a0568e249d0",
   "metadata": {},
   "source": [
    "#### Evaluation\n",
    "\n",
    "How do we know how well our model is doing? Measuring accuracy on the test data is not an informative metric, since there are usually many \"good\" ways of completing the context -- the next word is usually ambiguous. Even on the training data, a neural LM will never reach super-high accuracy. \n",
    "\n",
    "But we can look at the probability that the model assigns to the test data. More specifically, we are looking at the perplexity, which normalizes the probabilities so they become comparable across test corpora of different lengths. \n",
    "\n",
    "Perplexity is defined as \n",
    "\n",
    "$e^l$ where $l = \\frac{1}{N}\\sum\\limits_{i=1}^N {- \\log_e P(w_i)}$.\n",
    "\n",
    "$- \\log P(w_i)$ is the negative log-likelihood the model assigns to each token in the test data. "
   ]
  },
  {
   "cell_type": "code",
   "execution_count": 73,
   "id": "2bb4ad96-7dae-4150-a8d7-dc791dd85445",
   "metadata": {},
   "outputs": [],
   "source": [
    "import torch.nn.functional as F \n",
    "\n",
    "def evaluate(model, dataloader, device='cuda'):\n",
    "    model.eval()\n",
    "    total_nll = 0.0\n",
    "    total_words = 0\n",
    "\n",
    "    with torch.no_grad():\n",
    "        for context, target in dataloader:            \n",
    "                context = context.to(device)\n",
    "                target = target.to(device)\n",
    "                prediction = model(context)            # (batch, vocab_size)\n",
    "                nll = F.cross_entropy(prediction, target, reduction='sum').item()\n",
    "                total_nll += nll\n",
    "                total_words += target.size(0)\n",
    "\n",
    "    avg_nll = total_nll / total_words\n",
    "    ppl = np.exp(avg_nll)\n",
    "    print(f\"Perplexity: {ppl:.2f}\")\n",
    "    return ppl"
   ]
  },
  {
   "cell_type": "code",
   "execution_count": 74,
   "id": "ffd067a7-72cc-4cd5-aea4-9c15d59b8422",
   "metadata": {},
   "outputs": [],
   "source": [
    "test_data = BrownDataset(\"brown_test.txt\",k=4, id_to_word = data.id_to_word)"
   ]
  },
  {
   "cell_type": "code",
   "execution_count": 75,
   "id": "16077541-4f65-4da5-8480-2184a1349435",
   "metadata": {},
   "outputs": [],
   "source": [
    "test_loader = DataLoader(test_data,  batch_size = 128)"
   ]
  },
  {
   "cell_type": "code",
   "execution_count": 76,
   "id": "b1bd5a2e-57fa-4c0a-a62d-eae19e0b825b",
   "metadata": {},
   "outputs": [
    {
     "name": "stdout",
     "output_type": "stream",
     "text": [
      "Perplexity: 461.27\n"
     ]
    },
    {
     "data": {
      "text/plain": [
       "461.26733294011814"
      ]
     },
     "execution_count": 76,
     "metadata": {},
     "output_type": "execute_result"
    }
   ],
   "source": [
    "evaluate(model, test_loader)"
   ]
  },
  {
   "cell_type": "markdown",
   "id": "f626f9d1-2282-4958-8836-e448897bf724",
   "metadata": {},
   "source": [
    "### Visualizing Embeddings \n",
    "\n",
    "Let's take the embeddings from our trained model. "
   ]
  },
  {
   "cell_type": "code",
   "execution_count": 63,
   "id": "e87db725-79ae-4e1d-a102-dc312a2a9ecb",
   "metadata": {},
   "outputs": [
    {
     "data": {
      "text/plain": [
       "tensor([[-0.5604,  0.2470,  1.0375,  ..., -0.1398, -0.0987,  0.0546],\n",
       "        [-1.6169, -1.4652,  0.1737,  ...,  1.1038, -0.2839, -0.0720],\n",
       "        [ 0.5828, -0.0828, -0.0462,  ...,  0.8824,  0.1004,  0.4227],\n",
       "        ...,\n",
       "        [ 1.5811,  0.4762,  1.3302,  ..., -1.1485,  1.3949, -0.7964],\n",
       "        [ 2.0433, -0.7254, -0.1798,  ..., -1.0306, -0.4995, -0.7899],\n",
       "        [ 1.3997,  0.0215,  0.4692,  ..., -0.6142,  0.8830, -0.9771]])"
      ]
     },
     "execution_count": 63,
     "metadata": {},
     "output_type": "execute_result"
    }
   ],
   "source": [
    "emb_matrix = model.E.weight.data.to('cpu') # This is our embedding matrix\n",
    "emb_matrix"
   ]
  },
  {
   "cell_type": "code",
   "execution_count": 64,
   "id": "91df6e2f-0501-4c85-bfd7-eba9b6991b84",
   "metadata": {},
   "outputs": [
    {
     "data": {
      "text/plain": [
       "tensor([-2.2922, -1.6068,  0.2844,  1.7416,  0.2590, -0.4417,  1.3510,  2.5038,\n",
       "        -0.7823, -0.6654,  0.3746,  0.7727, -0.1463,  1.2925,  0.8095, -0.9568,\n",
       "         0.0717, -0.3792, -0.1852, -1.5658, -0.6937,  0.5334,  1.6472,  0.8359,\n",
       "        -1.3310, -1.0875,  0.2421, -1.5912,  0.7701, -0.3391,  0.3057,  0.3543,\n",
       "         1.0979,  1.4170,  1.1496, -0.1901, -0.5899, -0.4295,  0.1976, -0.5462,\n",
       "        -1.0037, -1.7894,  0.2146,  0.9629, -1.2514,  0.5606,  0.4671,  0.0075,\n",
       "         0.9105,  1.3591,  0.0125,  0.0359,  1.6515,  0.7409,  0.4814,  1.8593,\n",
       "        -1.6524, -1.0102,  0.9047, -0.7488, -1.3750, -0.7930,  0.8570,  0.5764,\n",
       "         0.4843,  1.7254,  0.6735, -1.8707,  0.7553, -0.1360,  1.9870, -0.3064,\n",
       "         1.0676,  0.7174,  0.0137,  0.0286, -0.3485, -0.2028,  1.5942,  2.4045,\n",
       "        -0.8605, -0.7663,  0.3656, -1.1894,  0.8256, -0.9860,  0.3135,  1.0529,\n",
       "        -0.1427, -2.0990,  0.2354, -1.3946,  0.7252, -0.0785, -0.3468, -0.8493,\n",
       "         1.3375, -0.0720, -0.0297,  0.2738, -1.0428, -0.1389, -2.0361,  0.8299,\n",
       "         0.7538, -2.1134, -0.8425, -1.7191,  0.6321,  0.1451,  1.1666, -0.2761,\n",
       "         0.8213,  0.2547,  0.7264,  0.0574, -0.6073,  0.0898, -0.4694,  0.1505,\n",
       "         1.9540,  0.1076, -1.2019,  0.4933, -0.2732,  0.6758, -1.7604, -0.0027])"
      ]
     },
     "execution_count": 64,
     "metadata": {},
     "output_type": "execute_result"
    }
   ],
   "source": [
    "dog_emb = emb_matrix[data.word_to_id['dog']]\n",
    "dog_emb"
   ]
  },
  {
   "cell_type": "code",
   "execution_count": 65,
   "id": "e67a4ba0-efb0-4c4c-91e3-38bd24d9dace",
   "metadata": {},
   "outputs": [
    {
     "data": {
      "text/plain": [
       "tensor([-0.4775,  1.5663,  0.7606, -0.2213,  0.2978,  1.4702,  0.2564,  0.2769,\n",
       "         0.2892, -0.5129, -1.6557,  0.4064,  0.9977,  0.7785,  1.8454, -0.6140,\n",
       "        -0.0340, -0.0081, -0.1410,  1.1381,  0.6735, -0.0118, -0.7171, -0.0649,\n",
       "        -0.3028, -0.4084, -0.3308, -0.0802,  0.8488, -0.0487, -0.4044, -0.4269,\n",
       "         0.2079, -1.3641, -1.5604,  0.1179,  0.4037,  0.2124,  0.7695,  0.8949,\n",
       "        -0.1231, -0.1496,  0.3722, -1.5044,  0.2021,  1.2840,  0.8399,  1.6678,\n",
       "         0.7123, -0.2391, -0.1476,  0.2155, -0.3164, -0.0227,  0.1011,  0.3730,\n",
       "        -0.4897, -1.2110,  0.3405,  0.2312,  0.2638,  0.5016,  0.6019, -0.5682,\n",
       "         0.8305,  0.3793, -0.4392, -0.3226,  0.1122,  0.1779,  1.7592,  1.6239,\n",
       "         1.3276,  0.0781, -0.0361,  0.1829,  0.7878,  0.5228, -1.6703,  0.0463,\n",
       "        -1.2718, -0.0211, -0.4822, -0.2334, -0.1004, -1.5137, -2.5320, -0.4878,\n",
       "        -0.6645,  0.6258, -0.4318,  1.5841,  0.8090, -0.0722, -1.5280, -0.9797,\n",
       "        -1.0693,  0.0365, -0.0116, -0.6692,  2.1506, -1.4679, -1.6327,  0.7148,\n",
       "        -0.1984,  0.1928, -0.2323,  1.0457, -0.3540, -0.1799, -3.4027,  1.9512,\n",
       "         0.2019,  1.1664, -0.0040,  0.2693,  1.5046, -1.0986,  0.2764,  0.0090,\n",
       "         1.3535, -1.2665,  0.0328,  1.3229,  1.9801,  0.0200, -0.4829,  0.4024])"
      ]
     },
     "execution_count": 65,
     "metadata": {},
     "output_type": "execute_result"
    }
   ],
   "source": [
    "cat_emb = emb_matrix[data.word_to_id['cat']]\n",
    "cat_emb"
   ]
  },
  {
   "cell_type": "code",
   "execution_count": 66,
   "id": "8a7a5f2c-60ce-4919-9774-5197a502616b",
   "metadata": {},
   "outputs": [
    {
     "data": {
      "text/plain": [
       "-0.032163847"
      ]
     },
     "execution_count": 66,
     "metadata": {},
     "output_type": "execute_result"
    }
   ],
   "source": [
    "cos(dog_emb, cat_emb)"
   ]
  },
  {
   "cell_type": "markdown",
   "id": "1e2bcea9-56ad-4ff0-84ee-75c61919b4e8",
   "metadata": {},
   "source": [
    "We would like to visualize some common words to see if the model has learned similarities between them. Unfortunately, we cannot visualize 10,000-component vectors directly. Instead, we will use PCA (Principle Component Analysis) to reduce the dimensionality down to 2D. "
   ]
  },
  {
   "cell_type": "code",
   "execution_count": 69,
   "id": "04c93a3d-2e3c-4c8a-92f9-8a3587561057",
   "metadata": {},
   "outputs": [
    {
     "data": {
      "image/png": "[encoded data removed]",
      "text/plain": [
       "<Figure size 1000x800 with 1 Axes>"
      ]
     },
     "metadata": {},
     "output_type": "display_data"
    }
   ],
   "source": [
    "import torch\n",
    "import numpy as np\n",
    "import matplotlib.pyplot as plt\n",
    "from sklearn.manifold import TSNE\n",
    "from sklearn.decomposition import PCA\n",
    "\n",
    "words = [\n",
    "    \"cat\", \"dog\", \"lion\", \"tiger\",\n",
    "    \"car\", \"bus\", \"train\", \"truck\",\n",
    "    \"apple\", \"berry\", \"orange\", \"potato\",\n",
    "    \"chair\", \"table\", \"bed\", \"cushion\",\n",
    "    \"city\", \"village\", \"river\", \"mountain\",\n",
    "    \"red\", \"green\", \"blue\", \"yellow\",\n",
    "    \"happy\", \"sad\", \"angry\", \"calm\"\n",
    "]\n",
    "\n",
    "# Collect the embeddings for each of the words\n",
    "embeddings = [] \n",
    "embedding_matrix = model.E.weight.data\n",
    "\n",
    "for word in words:\n",
    "    idx = data.word_to_id[word]\n",
    "    emb = model.E.weight.data[idx].cpu().numpy()\n",
    "    embeddings.append(emb)\n",
    "\n",
    "\n",
    "embeddings = np.stack(embeddings)  # shape: (num_words, emb_dim)\n",
    "\n",
    "\n",
    "# Option 1: t-SNE (good for semantic neighborhoods; slower)\n",
    "#proj = TSNE(n_components=2, random_state=42).fit_transform(embeddings)\n",
    "\n",
    "# Option 2: PCA (fast and linear)\n",
    "proj = PCA(n_components=2).fit_transform(embeddings)\n",
    "\n",
    "plt.figure(figsize=(10, 8))\n",
    "plt.scatter(proj[:, 0], proj[:, 1], color='steelblue')\n",
    "\n",
    "for word, (x, y) in zip(words, proj):\n",
    "    plt.text(x+0.1, y, word, fontsize=12)\n",
    "\n",
    "plt.title(\"2D visualization of selected word embeddings\")\n",
    "plt.xlabel(\"Component 1\")\n",
    "plt.ylabel(\"Component 2\")\n",
    "plt.grid(True)\n",
    "plt.show()"
   ]
  },
  {
   "cell_type": "code",
   "execution_count": null,
   "id": "d97a4ea9-8346-4bd8-a7fe-95478270bc69",
   "metadata": {},
   "outputs": [],
   "source": []
  },
  {
   "cell_type": "code",
   "execution_count": null,
   "id": "45b226b3-aea9-469c-a70e-e14876700a4b",
   "metadata": {},
   "outputs": [],
   "source": []
  },
  {
   "cell_type": "code",
   "execution_count": null,
   "id": "d3abfac5-7add-419b-81ee-0ee431f36106",
   "metadata": {},
   "outputs": [],
   "source": []
  }
 ],
 "metadata": {
  "kernelspec": {
   "display_name": "Python 3 (ipykernel)",
   "language": "python",
   "name": "python3"
  },
  "language_info": {
   "codemirror_mode": {
    "name": "ipython",
    "version": 3
   },
   "file_extension": ".py",
   "mimetype": "text/x-python",
   "name": "python",
   "nbconvert_exporter": "python",
   "pygments_lexer": "ipython3",
   "version": "3.10.13"
  }
 },
 "nbformat": 4,
 "nbformat_minor": 5
}
