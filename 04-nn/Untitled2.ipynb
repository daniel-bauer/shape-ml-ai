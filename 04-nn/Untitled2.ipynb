{
 "cells": [
  {
   "cell_type": "code",
   "execution_count": null,
   "id": "4d84a75d-28da-4d86-843e-e3f842e5d7c6",
   "metadata": {},
   "outputs": [],
   "source": [
    "## Machine Learning and Artificial Intelligence \n",
    "Summer High School Academic Program for Engineers (2025)\n",
    "## PyTorch Basics\n",
    "\n",
    "Torch is an open-source machine learning library and a scientific computing framework. PyTorch is the python frontend to it. \n",
    "\n",
    "PyTorch provides the *tensor* data structure, which is similar to a numpy ndarray, but with added features.\n",
    "\n",
    "\n"
   ]
  }
 ],
 "metadata": {
  "kernelspec": {
   "display_name": "Python 3 (ipykernel)",
   "language": "python",
   "name": "python3"
  },
  "language_info": {
   "codemirror_mode": {
    "name": "ipython",
    "version": 3
   },
   "file_extension": ".py",
   "mimetype": "text/x-python",
   "name": "python",
   "nbconvert_exporter": "python",
   "pygments_lexer": "ipython3",
   "version": "3.12.2"
  }
 },
 "nbformat": 4,
 "nbformat_minor": 5
}
