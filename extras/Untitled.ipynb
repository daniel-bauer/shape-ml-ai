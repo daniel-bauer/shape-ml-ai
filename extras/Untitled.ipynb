{
 "cells": [
  {
   "cell_type": "markdown",
   "id": "323decd7-e6b0-4cea-8eb5-8b9ac6071adb",
   "metadata": {},
   "source": [
    "## Machine Learning and Artificial Intelligence \n",
    "Summer High School Academic Program for Engineers (2025)\n",
    "## Calculus Review (just the basics)\n",
    "\n",
    "\n",
    "Overview: \n",
    "* 1. Limits of Sequences and Functions\n",
    "* 2. Derivatives of Single-Variable Functions\n",
    "* 3. Partial Derivatives of Multi-Variable Functions"
   ]
  },
  {
   "cell_type": "markdown",
   "id": "06e8cc82-2bfa-4931-8dee-34e05bd37d8c",
   "metadata": {},
   "source": [
    "## 1. Limits of Sequences of Functions \n",
    "\n",
    "### Sequences\n",
    "\n",
    "A **sequence** is an ordered list of elements (usually numbers). Each element has an index $a_n$. \n",
    "\n",
    "Often, we can define the next element of a sequence in terms of the previous ones. For example: 2,4,6,8, ... \n",
    "Here, $a_1 = 2$ and each other element $a_{n}$ = $a_{n-1} + 2$. Alternatively, we can define the sequence based on $n$ directly, here $a_n = 2n$. \n",
    "\n",
    "Another example: $a_1 = 1$ and  $a_n = \\frac{1}{2} a_{n-1}$. So we get $1, \\frac{1}{2}, \\frac{1}{4}, \\frac{1}{8}, ...$\n",
    "We can also write this as $a_n = \\frac{1}{2^{n-1}}$\n",
    "\n",
    "These are exampels for **infinite sequences**, but a sequence can also be a **finite sequence**. \n",
    "\n",
    "An infinite sequence may be **divergent**, that is it keeps growing unbounded as $n\\rightarrow \\infty$ or it oscilates between values. \n",
    "It can also be **convergent**, that is it approaches a specific value as $n\\rightarrow \\infty$. For example, $\\lim\\limits_{n\\rightarrow \\infty} = \\frac{1}{2^{n-1}} = 0$ \n",
    "\n",
    "Formally, a converges towards $x$,  ",
    " ",
    " ",
    "that is $\\lim\\limits_{n\\rightarrow \\infty} a_n = x$, if for each $\\epsilon > 0$, there exists a natural number $N > 0$, such that for each $n \\geq N$, we have $|a_n - x| < \\epsilon$.\n",
    "\n",
    "**TODO** Example proof?"
   ]
  },
  {
   "cell_type": "markdown",
   "id": "8b2baffe-9fa3-4f80-aec1-0f0f8177f701",
   "metadata": {},
   "source": [
    "### Series\n",
    "\n",
    "A series is the sum of a the values of a sequence. For an infinite sequence that is: $\\sum\\limits_{n=1}^\\infty a_n$.\n",
    "\n",
    "For the sequences above: \n",
    "\n",
    "$\\sum\\limits_{n=1}^\\infty 2n = 2 + 4 + 6 + 8 + \\cdots = \\infty.$\n",
    "\n",
    "This series keeps growing, this is called a *divergent series*.\n",
    "\n",
    "But \n",
    "\n",
    "$\\sum\\limits_{n=1}^\\infty \\frac{1}{2^{n-1}} = 1 + \\frac{1}{2} + \\frac{1}{4} + \\frac{1}{8} \\cdots = 2.$\n",
    "\n",
    "The second series converges to a value, this is called a *convergent series*.\n",
    "\n"
   ]
  },
  {
   "cell_type": "markdown",
   "id": "bff34bba-7e23-4d09-aed0-15f1fc03296e",
   "metadata": {},
   "source": [
    "### Functions\n",
    "\n",
    "For functions we are interested in the limit at a specific point $a$: $\\lim\\limits_{x \\rightarrow a} f(x) = L$.\n",
    "\n",
    "As $x$ approaches $a$ from either side, the value $f(x)$ approaches the limit $L$, iff for each $\\epsilon > 0$ there exists a $\\delta > 0$  ",
    " ",
    "such that if $0<|x-a|< \\delta$, then $|f(x)-L|< \\epsilon$.\n",
    "\n",
    "Note that the limit may still exist if $f(a)$ is undefined!\n",
    "\n",
    "<img src=\"https://www.cs.columbia.edu/~bauer/shape/function_limit.png\" width=400px>\n",
    "\n",
    "**One-sided Limit**\n",
    "\n",
    "$\\lim\\limits_{x\\rightarrow a^+} f(x) = L$  means that the limit of $f(x)$ as $x$ approaches $a$ from the right is $L$.  \n",
    "$\\lim\\limits_{x\\rightarrow a^-} f(x) = L$  means that the limit of $f(x)$ as $x$ approaches $a$ from the right is $L$.  \n",
    "\n",
    "For a two-sided limit to exist, both one-sided limits must exist and must be identical.\n",
    "\n",
    "For example, the step function has two one sided limits, but they are not identical. \n",
    "\n",
    "<img src=\"https://www.cs.columbia.edu/~bauer/shape/one_sided__limit.png\" width=400px>\n",
    "\n",
    "**Other Nonexistent Limits**\n",
    "\n",
    "There are other cases in which a two-sided limit does not exist. \n",
    "\n",
    "For example, $\\lim\\limits_{x \\rightarrow 0} \\frac{1}{x}$  \"blows up\" to positive and negative infinity.\n",
    "\n",
    "<img src=\"https://www.cs.columbia.edu/~bauer/shape/hyperbola.png\" width=400px>\n",
    "\n",
    "And $\\lim\\limits_{x \\rightarrow 0} \\sin \\frac{1}{x}$ oscillates between +1 and -1, no matter how close you get to 0. \n",
    "\n",
    "<img src=\"https://www.cs.columbia.edu/~bauer/shape/sin1overx.png\" width=400px>\n",
    "\n",
    "**Continuity**\n",
    "\n",
    "A function $f(x)$ is **continous at c** if $\\lim\\limits_{x\\rightarrow c} f(x)$ exists, $f(c)$ is defined, and $\\lim_{x\\rightarrow c}f(x)=f(c)$.\n",
    "\n",
    "A function is **contious** if it is continous at all real values of $c$. "
   ]
  },
  {
   "cell_type": "markdown",
   "id": "529afaa2-1f0b-4312-a1b7-c3dee18f5d47",
   "metadata": {},
   "source": [
    "## 2. Derivatives of Single Variable Functions\n",
    "\n",
    "### Slope of a Linear Function \n",
    "\n",
    "The idea behind the derivative is that it captures the rate of change of a function $f(x)$, with respect to $x$.\n",
    "\n",
    "Consider the slope $m$ of a linear function $y = f(x) = m x + b$\n",
    "\n",
    "<img src=\"https://www.cs.columbia.edu/~bauer/shape/linear_slope.png\" width=200px>\n",
    "\n",
    "$m = \\frac{\\Delta f}{\\Delta x} = \\frac{f(x + \\Delta{x}) - f(x)}{\\Delta x}$\n",
    "\n",
    "For linear functions, the rate of change is constant across all values of $x$. \n",
    "\n",
    "### Derivative of a function\n",
    "\n",
    "What if the slope is not linear? The rate of change may be different at each point.\n",
    "\n",
    "<img src=\"https://www.cs.columbia.edu/~bauer/shape/xsquared.png\" width=300px>\n",
    "\n",
    "\n",
    "The **derivative** of $f$ is a function describing the rate of change for any point $x$.\n",
    "\n",
    "The derivative of $f$ is defined as \n",
    "\n",
    "$$f'(x) = \\frac{df}{dx} = \\lim\\limits_{x \\rightarrow 0} \\frac{\\Delta f}{\\Delta x}$$\n",
    "$$ = \\lim_{x \\rightarrow 0} \\frac{f(x + \\Delta x) - f(x)}{\\Delta x}$$\n",
    "\n",
    "You can think of the limit as finding better and better estimates for the rate of change by reducing $\\Delta x$ until it is infinitesimally small. \n",
    "\n",
    "<img src=\"https://www.cs.columbia.edu/~bauer/shape/xsquared_limit.png\" width=300px>\n"
   ]
  },
  {
   "cell_type": "markdown",
   "id": "3b855a5b-0456-4248-8449-ceeb7c4a59aa",
   "metadata": {},
   "source": [
    "Example: Derivative of $x^2$\n",
    "\n",
    "$f(x) = x^2$\n",
    "\n",
    "$\\frac{df}{dx} = \\lim\\limits_{x \\rightarrow 0} \\frac{(x + \\Delta x)^2 - x^2}{\\Delta x}$\n",
    "\n",
    "$= \\lim\\limits_{x \\rightarrow 0} \\frac{(x^2 + 2 x \\Delta x + \\Delta x^2) - x^2}{\\Delta x}$\n",
    "\n",
    "$ = \\lim\\limits_{x \\rightarrow 0} \\frac{2 x \\Delta x + \\Delta x^2}{\\Delta x}$\n",
    "\n",
    "$ = \\lim\\limits_{x \\rightarrow 0} 2 x + \\Delta x$ \n",
    "\n",
    "$ = 2x $\n"
   ]
  },
  {
   "cell_type": "markdown",
   "id": "3565d494-a92a-4340-bb1b-18f8f4e56fd4",
   "metadata": {},
   "source": [
    "### Some Rules for Derivatives\n",
    "\n",
    "* **Power rule:**  if $f(x) = x^a$ then $\\frac{df}{dx} = a x^{a-1}$\n",
    "\n",
    "  Examples: $\\frac{dx^5}{dx} = 5x^4$  and  $\\frac{d\\sqrt{x}}{dx} =  \\frac{d x^{\\frac{1}{2}}}{dx} = \\frac{1}{2} x ^{-\\frac{1}{2}}$\n",
    "\n",
    "* **Exponential rule:** if $f(x)  = b^x$ then $\\frac{df}{dx} = b^x \\ln b$.  ($\\ln b$ is the natural logaritm of $b$:   $\\ln e^b = b$)\n",
    "\n",
    "  Example: $\\frac{d e^x}{f x} = e^x \\ln e = e^x$"
   ]
  },
  {
   "cell_type": "markdown",
   "id": "eb02c162-2ae1-483a-bd9a-fdaa517c3f03",
   "metadata": {},
   "source": [
    "* **Rule of linearity** (linear combinations): if $f(x) = a g(x)  + b h(x)$, then $\\frac{df}{dx} = a \\frac{dg}{dx} + b \\frac{dh}{dx}$.\n",
    "\n",
    "    Example: $f(x) = 3x^5 + 2x^4 + 3x.$      $\\frac{df}{dx} = 15 x^4 + 8 x^3 + 3$\n",
    "\n",
    "  * **Sum rule**: if $f(x) = g(x) + h(x)$, then $\\frac{df}{dx} = \\frac{dg}{dx} + \\frac{dg}{dx}$"
   ]
  },
  {
   "cell_type": "markdown",
   "id": "c3ae15f7-2cc0-4e28-aa7a-9e339b5f4401",
   "metadata": {},
   "source": [
    "* **Product rule**: if $f(x) = g(x) \\cdot h(x)$ then $\\frac{df}{dx} = g(x) \\frac{dh}{dx} + h(x) \\frac{dg}{dx}$"
   ]
  },
  {
   "cell_type": "code",
   "execution_count": null,
   "id": "aa17a869-db0d-4573-a596-521d592fa5c8",
   "metadata": {},
   "outputs": [],
   "source": []
  }
 ],
 "metadata": {
  "kernelspec": {
   "display_name": "Python 3 (ipykernel)",
   "language": "python",
   "name": "python3"
  },
  "language_info": {
   "codemirror_mode": {
    "name": "ipython",
    "version": 3
   },
   "file_extension": ".py",
   "mimetype": "text/x-python",
   "name": "python",
   "nbconvert_exporter": "python",
   "pygments_lexer": "ipython3",
   "version": "3.12.2"
  }
 },
 "nbformat": 4,
 "nbformat_minor": 5
}
