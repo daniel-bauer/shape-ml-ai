{
 "cells": [
  {
   "cell_type": "markdown",
   "metadata": {},
   "source": [
    "# SHAPE AI/ML\n",
    "## Summer 2025 - Day 1\n",
    "## Warmup project: The Nim Game"
   ]
  },
  {
   "cell_type": "markdown",
   "metadata": {},
   "source": [
    "The goals of this project are \n",
    "1. to make you familiar with Codio and Jupyter Notebook\n",
    "2. to review Python basics \n",
    "3. to work on a first simple project that may (or may not) require AI. \n",
    "4. to explore the abilities / limitations of existing large language models (LLMs)"
   ]
  },
  {
   "cell_type": "markdown",
   "metadata": {},
   "source": [
    "### Background: The Nim game\n",
    "\n",
    "Nim is a simple 2-player game. The game is played with a number of distinct piles of objects. For example, the start state might look like this: \n",
    "    \n",
    "<img src=\"https://www.cs.columbia.edu/~bauer/shape/nim_start.png\" width=300px>    \n",
    "    \n",
    "The two players take turns removing any number of objects from any one pile. The player removing the last object wins. \n",
    "\n",
    "To get a sense of the game (and find a winning strategy), you may want to play a few rounds against each other using the physical objects provided. \n",
    "\n",
    "Now, look at the following implementation of the game, understand what each function does, and understand how the main game function min_game() works."
   ]
  },
  {
   "cell_type": "code",
   "execution_count": 4,
   "metadata": {},
   "outputs": [],
   "source": [
    "# The piles are represented using a dictionary, so that each pile has a distinct ID.\n",
    "# The value represents the number of objects. For example: \n",
    "piles = {'A': 3, 'B':4, 'C':5}"
   ]
  },
  {
   "cell_type": "code",
   "execution_count": 5,
   "metadata": {},
   "outputs": [],
   "source": [
    "def check_not_empty(piles):\n",
    "    \"\"\"\n",
    "    Return true if at least one pile still has objects on it.\n",
    "    \"\"\"\n",
    "    \n",
    "    for p in piles: \n",
    "        if piles[p] != 0:\n",
    "            return True\n",
    "    return False\n",
    "\n",
    "def print_piles(piles):\n",
    "    \"\"\"\n",
    "    Display the piles in a human readable format.\n",
    "    \"\"\"\n",
    "    for p in piles: \n",
    "        print(f\"{p}: {piles[p]}\")\n",
    "    print()                            "
   ]
  },
  {
   "cell_type": "code",
   "execution_count": 6,
   "metadata": {},
   "outputs": [],
   "source": [
    "def get_human_move(name, piles):    \n",
    "    choice = None\n",
    "    while choice not in piles or piles[choice] == 0:\n",
    "        choice = input(f\"{name}, which pile do you choose?\")\n",
    "        if choice not in piles:\n",
    "            print(\"That's not a pile id.\")\n",
    "        elif piles[choice] ==0:\n",
    "            print(f\"Pile {choice} is empty.\")\n",
    "            \n",
    "    valid_choice = False\n",
    "    while not valid_choice:\n",
    "        num_objects = input(f\"{name}, how many objects do you want to take?\")\n",
    "        try: \n",
    "            num_objects_int = int(num_objects)\n",
    "            if num_objects_int < 1 or num_objects_int > piles[choice]:\n",
    "                print(f\"Invalid choice, please choose between 1 and {piles[choice]} objects.\")\n",
    "                valid_choice = False\n",
    "            else: \n",
    "                valid_choice = True\n",
    "                return (choice, num_objects_int)\n",
    "        except ValueError: \n",
    "            print(\"Please type a number\")"
   ]
  },
  {
   "cell_type": "code",
   "execution_count": 7,
   "metadata": {},
   "outputs": [],
   "source": [
    "def nim_game(player1, player2):\n",
    "    \n",
    "    piles = {'A': 3, 'B':4, 'C':5}\n",
    "    \n",
    "    while check_not_empty(piles):\n",
    "        print_piles(piles)\n",
    "        print()\n",
    "        p1_move = player1(\"Player 1\", piles)\n",
    "        \n",
    "        #play the move\n",
    "        pile, num_objs = p1_move\n",
    "        piles[pile] -= num_objs\n",
    "        \n",
    "        print_piles(piles)\n",
    "        if not(check_not_empty(piles)):\n",
    "            print(\"Player 1 wins!\")\n",
    "        else:        \n",
    "            p2_move = player2(\"Player 2\", piles)\n",
    "            \n",
    "            #play the move\n",
    "            pile, num_objs = p2_move\n",
    "            piles[pile] -= num_objs\n",
    "            if not(check_not_empty(piles)):\n",
    "                print_piles(piles)\n",
    "                print(\"Player 2 wins!\")"
   ]
  },
  {
   "cell_type": "markdown",
   "metadata": {},
   "source": [
    "To play a game of Nim (with 2 human players), we just run:"
   ]
  },
  {
   "cell_type": "code",
   "execution_count": 8,
   "metadata": {},
   "outputs": [
    {
     "name": "stdout",
     "output_type": "stream",
     "text": [
      "A: 3\n",
      "B: 4\n",
      "C: 5\n",
      "\n",
      "\n",
      "Player 1, which pile do you choose?A\n",
      "Player 1, how many objects do you want to take?3\n",
      "A: 0\n",
      "B: 4\n",
      "C: 5\n",
      "\n",
      "Player 2, which pile do you choose?B\n",
      "Player 2, how many objects do you want to take?2\n",
      "A: 0\n",
      "B: 2\n",
      "C: 5\n",
      "\n",
      "\n",
      "Player 1, which pile do you choose?B\n",
      "Player 1, how many objects do you want to take?1\n",
      "A: 0\n",
      "B: 1\n",
      "C: 5\n",
      "\n",
      "Player 2, which pile do you choose?C\n",
      "Player 2, how many objects do you want to take?4\n",
      "A: 0\n",
      "B: 1\n",
      "C: 1\n",
      "\n",
      "\n",
      "Player 1, which pile do you choose?A\n",
      "Pile A is empty.\n",
      "Player 1, which pile do you choose?1\n",
      "That's not a pile id.\n",
      "Player 1, which pile do you choose?B\n",
      "Player 1, how many objects do you want to take?1\n",
      "A: 0\n",
      "B: 0\n",
      "C: 1\n",
      "\n",
      "Player 2, which pile do you choose?C\n",
      "Player 2, how many objects do you want to take?1\n",
      "A: 0\n",
      "B: 0\n",
      "C: 0\n",
      "\n",
      "Player 2 wins!\n"
     ]
    }
   ],
   "source": [
    "nim_game(get_human_move, get_human_move)"
   ]
  },
  {
   "cell_type": "markdown",
   "metadata": {},
   "source": [
    "We will experiment with different ways of replacing the get_human_move function to create \"AI players\" for this game. \n",
    "\n",
    "* A \"random\" player. \n",
    "* A player using the openAI api\n",
    "* A player using a simple but effective rule based strategy.\n",
    "\n",
    "We can then have the different players compete against each other (and against a human player)."
   ]
  },
  {
   "cell_type": "markdown",
   "metadata": {},
   "source": [
    "### A \"random\" computer opponent\n",
    "\n",
    "Complete the function get_random_move(player_name, piles). The function should first select a non-empty pile at random. Then, it should randomly select a number of objects from that pile. \n",
    "\n",
    "The function should return a tuple where the first element is the pile id, and the second element is an int representing the number of objects -- for example: (\"A\",4).\n",
    "\n",
    "Play the game against the random oponent -- you should be able to beat the random player easily."
   ]
  },
  {
   "cell_type": "code",
   "execution_count": null,
   "metadata": {},
   "outputs": [],
   "source": [
    "def get_random_move(player_name, piles):\n",
    "    pass # replace this line"
   ]
  },
  {
   "cell_type": "code",
   "execution_count": null,
   "metadata": {},
   "outputs": [],
   "source": [
    "nim_game(get_human_move, get_random_move)"
   ]
  },
  {
   "cell_type": "markdown",
   "metadata": {},
   "source": [
    "### using the openAI API to play against GPT"
   ]
  },
  {
   "cell_type": "markdown",
   "metadata": {},
   "source": [
    "First, use ChatGPT https://chat.openai.com to find a good prompt to obtain the move. The prompt should describe the rules of the game, as well as the current game state. Try making the prompt specific enough to get a response that would be easy to process in Python. You can play a game or two against chatGPT this way.\n",
    "\n",
    "Next, we will make this a bit easier by calling the chatGPT API directly (using the openAI SDK).\n",
    "\n",
    "The template below illustrates how to send a prompt to GPT and retrieve the reponse as a string. You will need to 1) insert a suitable prompt (see above) and 2) parse the response to convert it into the correct format, that is a tuple of the format (pile_id, number of objects)."
   ]
  },
  {
   "cell_type": "code",
   "execution_count": 6,
   "metadata": {},
   "outputs": [
    {
     "ename": "ValueError",
     "evalue": "{\"Bad Request: 'api_key' and 'course_id' are required\"}",
     "output_type": "error",
     "traceback": [
      "\u001b[0;31m---------------------------------------------------------------------------\u001b[0m",
      "\u001b[0;31mValueError\u001b[0m                                Traceback (most recent call last)",
      "Cell \u001b[0;32mIn[6], line 19\u001b[0m\n\u001b[1;32m     15\u001b[0m     response_str \u001b[38;5;241m=\u001b[39m chat_completion\u001b[38;5;241m.\u001b[39mchoices[\u001b[38;5;241m0\u001b[39m]\u001b[38;5;241m.\u001b[39mmessage\u001b[38;5;241m.\u001b[39mcontent\n\u001b[1;32m     16\u001b[0m     \u001b[38;5;28mprint\u001b[39m(response_str)\n\u001b[0;32m---> 19\u001b[0m \u001b[43mget_openai_move\u001b[49m\u001b[43m(\u001b[49m\u001b[38;5;124;43m\"\u001b[39;49m\u001b[38;5;124;43mbob\u001b[39;49m\u001b[38;5;124;43m\"\u001b[39;49m\u001b[43m,\u001b[49m\u001b[43m \u001b[49m\u001b[43m{\u001b[49m\u001b[38;5;124;43m\"\u001b[39;49m\u001b[38;5;124;43mA\u001b[39;49m\u001b[38;5;124;43m\"\u001b[39;49m\u001b[43m:\u001b[49m\u001b[38;5;241;43m3\u001b[39;49m\u001b[43m,\u001b[49m\u001b[38;5;124;43m\"\u001b[39;49m\u001b[38;5;124;43mB\u001b[39;49m\u001b[38;5;124;43m\"\u001b[39;49m\u001b[43m:\u001b[49m\u001b[38;5;241;43m2\u001b[39;49m\u001b[43m,\u001b[49m\u001b[38;5;124;43m\"\u001b[39;49m\u001b[38;5;124;43mC\u001b[39;49m\u001b[38;5;124;43m\"\u001b[39;49m\u001b[43m:\u001b[49m\u001b[38;5;241;43m1\u001b[39;49m\u001b[43m}\u001b[49m\u001b[43m)\u001b[49m\n",
      "Cell \u001b[0;32mIn[6], line 6\u001b[0m, in \u001b[0;36mget_openai_move\u001b[0;34m(name, piles)\u001b[0m\n\u001b[1;32m      3\u001b[0m \u001b[38;5;28;01mdef\u001b[39;00m \u001b[38;5;21mget_openai_move\u001b[39m(name, piles):\n\u001b[1;32m      4\u001b[0m     client \u001b[38;5;241m=\u001b[39m NotOpenAI(api_key \u001b[38;5;241m=\u001b[39m \u001b[38;5;124m\"\u001b[39m\u001b[38;5;124m\"\u001b[39m) \u001b[38;5;66;03m# use the key code provided by Dr. Bauer\u001b[39;00m\n\u001b[0;32m----> 6\u001b[0m     chat_completion \u001b[38;5;241m=\u001b[39m \u001b[43mclient\u001b[49m\u001b[38;5;241;43m.\u001b[39;49m\u001b[43mchat\u001b[49m\u001b[38;5;241;43m.\u001b[39;49m\u001b[43mcompletions\u001b[49m\u001b[38;5;241;43m.\u001b[39;49m\u001b[43mcreate\u001b[49m\u001b[43m(\u001b[49m\n\u001b[1;32m      7\u001b[0m \u001b[43m        \u001b[49m\u001b[43mmessages\u001b[49m\u001b[38;5;241;43m=\u001b[39;49m\u001b[43m[\u001b[49m\n\u001b[1;32m      8\u001b[0m \u001b[43m            \u001b[49m\u001b[43m{\u001b[49m\n\u001b[1;32m      9\u001b[0m \u001b[43m                \u001b[49m\u001b[38;5;124;43m\"\u001b[39;49m\u001b[38;5;124;43mrole\u001b[39;49m\u001b[38;5;124;43m\"\u001b[39;49m\u001b[43m:\u001b[49m\u001b[43m \u001b[49m\u001b[38;5;124;43m\"\u001b[39;49m\u001b[38;5;124;43muser\u001b[39;49m\u001b[38;5;124;43m\"\u001b[39;49m\u001b[43m,\u001b[49m\n\u001b[1;32m     10\u001b[0m \u001b[43m                \u001b[49m\u001b[38;5;124;43m\"\u001b[39;49m\u001b[38;5;124;43mcontent\u001b[39;49m\u001b[38;5;124;43m\"\u001b[39;49m\u001b[43m:\u001b[49m\u001b[43m \u001b[49m\u001b[38;5;124;43m\"\u001b[39;49m\u001b[38;5;124;43mWhat is the capital of all countries in east africa?\u001b[39;49m\u001b[38;5;124;43m\"\u001b[39;49m\u001b[43m,\u001b[49m\n\u001b[1;32m     11\u001b[0m \u001b[43m            \u001b[49m\u001b[43m}\u001b[49m\n\u001b[1;32m     12\u001b[0m \u001b[43m        \u001b[49m\u001b[43m]\u001b[49m\u001b[43m,\u001b[49m\n\u001b[1;32m     13\u001b[0m \u001b[43m        \u001b[49m\u001b[43mmodel\u001b[49m\u001b[38;5;241;43m=\u001b[39;49m\u001b[38;5;124;43m\"\u001b[39;49m\u001b[38;5;124;43mgpt-3.5-turbo\u001b[39;49m\u001b[38;5;124;43m\"\u001b[39;49m\u001b[43m \u001b[49m\u001b[38;5;66;43;03m# the GPT model to use    \u001b[39;49;00m\n\u001b[1;32m     14\u001b[0m \u001b[43m    \u001b[49m\u001b[43m)\u001b[49m\n\u001b[1;32m     15\u001b[0m     response_str \u001b[38;5;241m=\u001b[39m chat_completion\u001b[38;5;241m.\u001b[39mchoices[\u001b[38;5;241m0\u001b[39m]\u001b[38;5;241m.\u001b[39mmessage\u001b[38;5;241m.\u001b[39mcontent\n\u001b[1;32m     16\u001b[0m     \u001b[38;5;28mprint\u001b[39m(response_str)\n",
      "File \u001b[0;32m~/workspace/notopenai/client.py:74\u001b[0m, in \u001b[0;36mNotOpenAI.chat.completions.create\u001b[0;34m(messages, model, response_format)\u001b[0m\n\u001b[1;32m     71\u001b[0m     \u001b[38;5;28;01mreturn\u001b[39;00m Completion(response\u001b[38;5;241m.\u001b[39mtext)\n\u001b[1;32m     72\u001b[0m \u001b[38;5;28;01melse\u001b[39;00m:\n\u001b[1;32m     73\u001b[0m     \u001b[38;5;66;03m# There was an error\u001b[39;00m\n\u001b[0;32m---> 74\u001b[0m     \u001b[38;5;28;01mraise\u001b[39;00m \u001b[38;5;167;01mValueError\u001b[39;00m({response\u001b[38;5;241m.\u001b[39mtext})\n",
      "\u001b[0;31mValueError\u001b[0m: {\"Bad Request: 'api_key' and 'course_id' are required\"}"
     ]
    }
   ],
   "source": [
    "from notopenai import NotOpenAI\n",
    "\n",
    "def get_openai_move(name, piles):\n",
    "    client = NotOpenAI(api_key = \"\") # use the key code provided by Dr. Bauer\n",
    "\n",
    "    chat_completion = client.chat.completions.create(\n",
    "        messages=[\n",
    "            {\n",
    "                \"role\": \"user\",\n",
    "                \"content\": \"What is the capital of all countries in east africa?\",\n",
    "            }\n",
    "        ],\n",
    "        model=\"gpt-3.5-turbo\" # the GPT model to use    \n",
    "    )\n",
    "    response_str = chat_completion.choices[0].message.content\n",
    "    print(response_str)\n",
    "    \n",
    "\n",
    "get_openai_move(\"bob\", {\"A\":3,\"B\":2,\"C\":1})"
   ]
  },
  {
   "cell_type": "markdown",
   "metadata": {},
   "source": [
    "### an \"optimal\" player\n",
    "\n",
    "Research the optimal strategy for the game nim and implement a function that plays optimally (when possible). It can play a random move otherwise. \n",
    "\n",
    "Compare the performance of your optimal player against the openai player. "
   ]
  },
  {
   "cell_type": "code",
   "execution_count": null,
   "metadata": {},
   "outputs": [],
   "source": []
  }
 ],
 "metadata": {
  "kernelspec": {
   "display_name": "Python 3 (ipykernel)",
   "language": "python",
   "name": "python3"
  },
  "language_info": {
   "codemirror_mode": {
    "name": "ipython",
    "version": 3
   },
   "file_extension": ".py",
   "mimetype": "text/x-python",
   "name": "python",
   "nbconvert_exporter": "python",
   "pygments_lexer": "ipython3",
   "version": "3.11.2"
  }
 },
 "nbformat": 4,
 "nbformat_minor": 2
}
